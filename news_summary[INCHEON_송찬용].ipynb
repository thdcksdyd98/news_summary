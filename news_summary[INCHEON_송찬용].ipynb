{
 "cells": [
  {
   "cell_type": "markdown",
   "id": "clean-modern",
   "metadata": {},
   "source": [
    "# 과정\n",
    "1. 데이터 수집\n",
    "2. 데이터 전처리\n",
    "3. 어텐션 메커니즘\n",
    "4. 실제 결과와 요약문 비교\n",
    "5. summa을 이용해서 추출적 요약 "
   ]
  },
  {
   "cell_type": "markdown",
   "id": "passing-combine",
   "metadata": {},
   "source": [
    "# 데이터 수집"
   ]
  },
  {
   "cell_type": "code",
   "execution_count": 2,
   "id": "attempted-tolerance",
   "metadata": {},
   "outputs": [
    {
     "name": "stderr",
     "output_type": "stream",
     "text": [
      "[nltk_data] Downloading package stopwords to /aiffel/nltk_data...\n",
      "[nltk_data]   Package stopwords is already up-to-date!\n"
     ]
    }
   ],
   "source": [
    "import nltk\n",
    "nltk.download('stopwords')\n",
    "\n",
    "import numpy as np\n",
    "import pandas as pd\n",
    "import os\n",
    "import re\n",
    "import matplotlib.pyplot as plt\n",
    "from nltk.corpus import stopwords\n",
    "from bs4 import BeautifulSoup \n",
    "from tensorflow.keras.preprocessing.text import Tokenizer \n",
    "from tensorflow.keras.preprocessing.sequence import pad_sequences\n",
    "import urllib.request"
   ]
  },
  {
   "cell_type": "code",
   "execution_count": 3,
   "id": "european-catch",
   "metadata": {},
   "outputs": [],
   "source": [
    "import urllib.request\n",
    "urllib.request.urlretrieve(\"https://raw.githubusercontent.com/sunnysai12345/News_Summary/master/news_summary_more.csv\", filename=\"news_summary_more.csv\")\n",
    "data = pd.read_csv('news_summary_more.csv', encoding='iso-8859-1')"
   ]
  },
  {
   "cell_type": "code",
   "execution_count": 4,
   "id": "structural-cleveland",
   "metadata": {},
   "outputs": [
    {
     "data": {
      "text/html": [
       "<div>\n",
       "<style scoped>\n",
       "    .dataframe tbody tr th:only-of-type {\n",
       "        vertical-align: middle;\n",
       "    }\n",
       "\n",
       "    .dataframe tbody tr th {\n",
       "        vertical-align: top;\n",
       "    }\n",
       "\n",
       "    .dataframe thead th {\n",
       "        text-align: right;\n",
       "    }\n",
       "</style>\n",
       "<table border=\"1\" class=\"dataframe\">\n",
       "  <thead>\n",
       "    <tr style=\"text-align: right;\">\n",
       "      <th></th>\n",
       "      <th>headlines</th>\n",
       "      <th>text</th>\n",
       "    </tr>\n",
       "  </thead>\n",
       "  <tbody>\n",
       "    <tr>\n",
       "      <th>88803</th>\n",
       "      <td>1st new blue shade found in 200 yrs to be turn...</td>\n",
       "      <td>A new shade of blue accidentally discovered by...</td>\n",
       "    </tr>\n",
       "    <tr>\n",
       "      <th>97563</th>\n",
       "      <td>India gets over 100 billionaires for the first...</td>\n",
       "      <td>According to Forbes 2017 World's Billionaires ...</td>\n",
       "    </tr>\n",
       "    <tr>\n",
       "      <th>10390</th>\n",
       "      <td>1 missing after fishing boat carrying 7 meets ...</td>\n",
       "      <td>One person has gone missing after a fishing bo...</td>\n",
       "    </tr>\n",
       "    <tr>\n",
       "      <th>48214</th>\n",
       "      <td>Muslim body ousts cleric who supported shiftin...</td>\n",
       "      <td>The All India Muslim Personal Law Board (AIMPL...</td>\n",
       "    </tr>\n",
       "    <tr>\n",
       "      <th>94550</th>\n",
       "      <td>Maneka Gandhi blames movies for rising crime a...</td>\n",
       "      <td>Blaming movies for the rising crime against wo...</td>\n",
       "    </tr>\n",
       "    <tr>\n",
       "      <th>50126</th>\n",
       "      <td>Russia accuses US of meddling in presidential ...</td>\n",
       "      <td>Russia on Monday accused the US of trying to i...</td>\n",
       "    </tr>\n",
       "    <tr>\n",
       "      <th>52869</th>\n",
       "      <td>Pope treats Rome's homeless, poor, migrants to...</td>\n",
       "      <td>Pope Francis is treating Rome's poor, homeless...</td>\n",
       "    </tr>\n",
       "    <tr>\n",
       "      <th>20827</th>\n",
       "      <td>Startup launches first cashierless store in Sa...</td>\n",
       "      <td>San Francisco-based startup Zippin launched th...</td>\n",
       "    </tr>\n",
       "    <tr>\n",
       "      <th>25388</th>\n",
       "      <td>Pak terrorist wanted by CBI to support Imran K...</td>\n",
       "      <td>The founder of Harkat-ul-Mujahideen militant g...</td>\n",
       "    </tr>\n",
       "    <tr>\n",
       "      <th>91114</th>\n",
       "      <td>Marcelo rescues Madrid with late winner agains...</td>\n",
       "      <td>Real Madrid defender Marcelo's 86th-minute goa...</td>\n",
       "    </tr>\n",
       "  </tbody>\n",
       "</table>\n",
       "</div>"
      ],
      "text/plain": [
       "                                               headlines  \\\n",
       "88803  1st new blue shade found in 200 yrs to be turn...   \n",
       "97563  India gets over 100 billionaires for the first...   \n",
       "10390  1 missing after fishing boat carrying 7 meets ...   \n",
       "48214  Muslim body ousts cleric who supported shiftin...   \n",
       "94550  Maneka Gandhi blames movies for rising crime a...   \n",
       "50126  Russia accuses US of meddling in presidential ...   \n",
       "52869  Pope treats Rome's homeless, poor, migrants to...   \n",
       "20827  Startup launches first cashierless store in Sa...   \n",
       "25388  Pak terrorist wanted by CBI to support Imran K...   \n",
       "91114  Marcelo rescues Madrid with late winner agains...   \n",
       "\n",
       "                                                    text  \n",
       "88803  A new shade of blue accidentally discovered by...  \n",
       "97563  According to Forbes 2017 World's Billionaires ...  \n",
       "10390  One person has gone missing after a fishing bo...  \n",
       "48214  The All India Muslim Personal Law Board (AIMPL...  \n",
       "94550  Blaming movies for the rising crime against wo...  \n",
       "50126  Russia on Monday accused the US of trying to i...  \n",
       "52869  Pope Francis is treating Rome's poor, homeless...  \n",
       "20827  San Francisco-based startup Zippin launched th...  \n",
       "25388  The founder of Harkat-ul-Mujahideen militant g...  \n",
       "91114  Real Madrid defender Marcelo's 86th-minute goa...  "
      ]
     },
     "execution_count": 4,
     "metadata": {},
     "output_type": "execute_result"
    }
   ],
   "source": [
    "data.sample(10)"
   ]
  },
  {
   "cell_type": "markdown",
   "id": "brave-project",
   "metadata": {},
   "source": [
    "# 데이터 전처리"
   ]
  },
  {
   "cell_type": "markdown",
   "id": "derived-automation",
   "metadata": {},
   "source": [
    "### 중복 샘플과 null 값 존재하는 샘플 제거"
   ]
  },
  {
   "cell_type": "code",
   "execution_count": 6,
   "id": "adopted-commerce",
   "metadata": {},
   "outputs": [
    {
     "name": "stdout",
     "output_type": "stream",
     "text": [
      "text 열에서 중복을 배제한 유일한 샘플의 수 : 98360\n",
      "headlines 열에서 중복을 배제한 유일한 샘플의 수 : 98280\n"
     ]
    }
   ],
   "source": [
    "# 우선 데이터의 중복 샘플 유무를 확인\n",
    "print('text 열에서 중복을 배제한 유일한 샘플의 수 :', data['text'].nunique())\n",
    "print('headlines 열에서 중복을 배제한 유일한 샘플의 수 :', data['headlines'].nunique())"
   ]
  },
  {
   "cell_type": "code",
   "execution_count": 7,
   "id": "quarterly-footwear",
   "metadata": {},
   "outputs": [
    {
     "name": "stdout",
     "output_type": "stream",
     "text": [
      "전체 샘플수 : 98360\n"
     ]
    }
   ],
   "source": [
    "# text가 달라도 headlines 동일할 수 있다.\n",
    "# 하지만 text 자체가 중복이 된 경우는 중복 샘플이므로 제거\n",
    "# 데이터프레임의 drop_duplicates()를 사용.\n",
    "# 위 함수를 사용하면 중복되는 null도 함께 제거\n",
    "\n",
    "# inplace=True 를 설정하면 DataFrame 타입 값을 return 하지 않고 data 내부를 직접적으로 바꿉니다\n",
    "data.drop_duplicates(subset = ['text'], inplace=True)\n",
    "print('전체 샘플수 :', (len(data)))"
   ]
  },
  {
   "cell_type": "code",
   "execution_count": 8,
   "id": "partial-circuit",
   "metadata": {},
   "outputs": [
    {
     "name": "stdout",
     "output_type": "stream",
     "text": [
      "headlines    0\n",
      "text         0\n",
      "dtype: int64\n"
     ]
    }
   ],
   "source": [
    "# 데이터프레임에 잔여 null값이 있는지 확인\n",
    "# .isnull().sum()을 사용\n",
    "print(data.isnull().sum())"
   ]
  },
  {
   "cell_type": "markdown",
   "id": "major-iraqi",
   "metadata": {},
   "source": [
    "### 텍스트 정규화와 불용어 제거"
   ]
  },
  {
   "cell_type": "code",
   "execution_count": 9,
   "id": "joint-optimization",
   "metadata": {},
   "outputs": [
    {
     "name": "stdout",
     "output_type": "stream",
     "text": [
      "정규화 사전의 수:  120\n"
     ]
    }
   ],
   "source": [
    "# 같은 의미인데도 다른 표현으로 쓰여 마치 다른 단어로 간주되는 경우가 있다.\n",
    "# 예를 들자면, it'll은 it will과 같은것.\n",
    "# 이런 경우에는 기계 학습 전에 미리 같은 표현으로 통일시켜주는 것이 기계의 연산량을 줄일 수 있는 방법\n",
    "# 이런 방법론을 텍스트 정규화라고 함\n",
    "# 텍스트 정규화를 위한 사전을 구성\n",
    "\n",
    "contractions = {\"ain't\": \"is not\", \"aren't\": \"are not\",\"can't\": \"cannot\", \"'cause\": \"because\", \"could've\": \"could have\", \"couldn't\": \"could not\",\n",
    "                           \"didn't\": \"did not\",  \"doesn't\": \"does not\", \"don't\": \"do not\", \"hadn't\": \"had not\", \"hasn't\": \"has not\", \"haven't\": \"have not\",\n",
    "                           \"he'd\": \"he would\",\"he'll\": \"he will\", \"he's\": \"he is\", \"how'd\": \"how did\", \"how'd'y\": \"how do you\", \"how'll\": \"how will\", \"how's\": \"how is\",\n",
    "                           \"I'd\": \"I would\", \"I'd've\": \"I would have\", \"I'll\": \"I will\", \"I'll've\": \"I will have\",\"I'm\": \"I am\", \"I've\": \"I have\", \"i'd\": \"i would\",\n",
    "                           \"i'd've\": \"i would have\", \"i'll\": \"i will\",  \"i'll've\": \"i will have\",\"i'm\": \"i am\", \"i've\": \"i have\", \"isn't\": \"is not\", \"it'd\": \"it would\",\n",
    "                           \"it'd've\": \"it would have\", \"it'll\": \"it will\", \"it'll've\": \"it will have\",\"it's\": \"it is\", \"let's\": \"let us\", \"ma'am\": \"madam\",\n",
    "                           \"mayn't\": \"may not\", \"might've\": \"might have\",\"mightn't\": \"might not\",\"mightn't've\": \"might not have\", \"must've\": \"must have\",\n",
    "                           \"mustn't\": \"must not\", \"mustn't've\": \"must not have\", \"needn't\": \"need not\", \"needn't've\": \"need not have\",\"o'clock\": \"of the clock\",\n",
    "                           \"oughtn't\": \"ought not\", \"oughtn't've\": \"ought not have\", \"shan't\": \"shall not\", \"sha'n't\": \"shall not\", \"shan't've\": \"shall not have\",\n",
    "                           \"she'd\": \"she would\", \"she'd've\": \"she would have\", \"she'll\": \"she will\", \"she'll've\": \"she will have\", \"she's\": \"she is\",\n",
    "                           \"should've\": \"should have\", \"shouldn't\": \"should not\", \"shouldn't've\": \"should not have\", \"so've\": \"so have\",\"so's\": \"so as\",\n",
    "                           \"this's\": \"this is\",\"that'd\": \"that would\", \"that'd've\": \"that would have\", \"that's\": \"that is\", \"there'd\": \"there would\",\n",
    "                           \"there'd've\": \"there would have\", \"there's\": \"there is\", \"here's\": \"here is\",\"they'd\": \"they would\", \"they'd've\": \"they would have\",\n",
    "                           \"they'll\": \"they will\", \"they'll've\": \"they will have\", \"they're\": \"they are\", \"they've\": \"they have\", \"to've\": \"to have\",\n",
    "                           \"wasn't\": \"was not\", \"we'd\": \"we would\", \"we'd've\": \"we would have\", \"we'll\": \"we will\", \"we'll've\": \"we will have\", \"we're\": \"we are\",\n",
    "                           \"we've\": \"we have\", \"weren't\": \"were not\", \"what'll\": \"what will\", \"what'll've\": \"what will have\", \"what're\": \"what are\",\n",
    "                           \"what's\": \"what is\", \"what've\": \"what have\", \"when's\": \"when is\", \"when've\": \"when have\", \"where'd\": \"where did\", \"where's\": \"where is\",\n",
    "                           \"where've\": \"where have\", \"who'll\": \"who will\", \"who'll've\": \"who will have\", \"who's\": \"who is\", \"who've\": \"who have\",\n",
    "                           \"why's\": \"why is\", \"why've\": \"why have\", \"will've\": \"will have\", \"won't\": \"will not\", \"won't've\": \"will not have\",\n",
    "                           \"would've\": \"would have\", \"wouldn't\": \"would not\", \"wouldn't've\": \"would not have\", \"y'all\": \"you all\",\n",
    "                           \"y'all'd\": \"you all would\",\"y'all'd've\": \"you all would have\",\"y'all're\": \"you all are\",\"y'all've\": \"you all have\",\n",
    "                           \"you'd\": \"you would\", \"you'd've\": \"you would have\", \"you'll\": \"you will\", \"you'll've\": \"you will have\",\n",
    "                           \"you're\": \"you are\", \"you've\": \"you have\"}\n",
    "\n",
    "print(\"정규화 사전의 수: \", len(contractions))"
   ]
  },
  {
   "cell_type": "code",
   "execution_count": 10,
   "id": "greater-durham",
   "metadata": {},
   "outputs": [
    {
     "name": "stdout",
     "output_type": "stream",
     "text": [
      "불용어 개수 : 179\n",
      "['i', 'me', 'my', 'myself', 'we', 'our', 'ours', 'ourselves', 'you', \"you're\", \"you've\", \"you'll\", \"you'd\", 'your', 'yours', 'yourself', 'yourselves', 'he', 'him', 'his', 'himself', 'she', \"she's\", 'her', 'hers', 'herself', 'it', \"it's\", 'its', 'itself', 'they', 'them', 'their', 'theirs', 'themselves', 'what', 'which', 'who', 'whom', 'this', 'that', \"that'll\", 'these', 'those', 'am', 'is', 'are', 'was', 'were', 'be', 'been', 'being', 'have', 'has', 'had', 'having', 'do', 'does', 'did', 'doing', 'a', 'an', 'the', 'and', 'but', 'if', 'or', 'because', 'as', 'until', 'while', 'of', 'at', 'by', 'for', 'with', 'about', 'against', 'between', 'into', 'through', 'during', 'before', 'after', 'above', 'below', 'to', 'from', 'up', 'down', 'in', 'out', 'on', 'off', 'over', 'under', 'again', 'further', 'then', 'once', 'here', 'there', 'when', 'where', 'why', 'how', 'all', 'any', 'both', 'each', 'few', 'more', 'most', 'other', 'some', 'such', 'no', 'nor', 'not', 'only', 'own', 'same', 'so', 'than', 'too', 'very', 's', 't', 'can', 'will', 'just', 'don', \"don't\", 'should', \"should've\", 'now', 'd', 'll', 'm', 'o', 're', 've', 'y', 'ain', 'aren', \"aren't\", 'couldn', \"couldn't\", 'didn', \"didn't\", 'doesn', \"doesn't\", 'hadn', \"hadn't\", 'hasn', \"hasn't\", 'haven', \"haven't\", 'isn', \"isn't\", 'ma', 'mightn', \"mightn't\", 'mustn', \"mustn't\", 'needn', \"needn't\", 'shan', \"shan't\", 'shouldn', \"shouldn't\", 'wasn', \"wasn't\", 'weren', \"weren't\", 'won', \"won't\", 'wouldn', \"wouldn't\"]\n"
     ]
    }
   ],
   "source": [
    "# NLTK에서 제공하는 불용어 리스트를 참조해서 샘플에서 불용어를 제거\n",
    "print('불용어 개수 :', len(stopwords.words('english') ))\n",
    "print(stopwords.words('english'))"
   ]
  },
  {
   "cell_type": "code",
   "execution_count": 11,
   "id": "creative-tackle",
   "metadata": {},
   "outputs": [],
   "source": [
    "# 또한 모든 영어 문자를 소문자로 만들고, 섞여있는 html 태그를 제거하고, 정규 표현식을 통해 특수문자를 제거해야함.\n",
    "# 하지만 이는 text 전처리 부분에서만 사용이 되고 상대적으로 문장 길이가 짧은 headlines 부분을 전처리 할 때는 사용 안함.\n",
    "# abstractive한 문장 요약 결과문이 자연스러워 지려면 불용어들이 headlines에는 남아있어야 함.\n",
    "# 이 처리를 위해서 함수의 인자로 remove_stopwords를 추가하고 if문을 추가\n",
    "\n",
    "# 데이터 전처리 함수\n",
    "def preprocess_sentence(sentence, remove_stopwords=True):\n",
    "    sentence = sentence.lower() # 텍스트 소문자화\n",
    "    sentence = BeautifulSoup(sentence, \"lxml\").text # <br />, <a href = ...> 등의 html 태그 제거\n",
    "    sentence = re.sub(r'\\([^)]*\\)', '', sentence) # 괄호로 닫힌 문자열 (...) 제거 Ex) my husband (and myself!) for => my husband for\n",
    "    sentence = re.sub('\"','', sentence) # 쌍따옴표 \" 제거\n",
    "    sentence = ' '.join([contractions[t] if t in contractions else t for t in sentence.split(\" \")]) # 약어 정규화\n",
    "    sentence = re.sub(r\"'s\\b\",\"\", sentence) # 소유격 제거. Ex) roland's -> roland\n",
    "    sentence = re.sub(\"[^a-zA-Z]\", \" \", sentence) # 영어 외 문자(숫자, 특수문자 등) 공백으로 변환\n",
    "    sentence = re.sub('[m]{2,}', 'mm', sentence) # m이 3개 이상이면 2개로 변경. Ex) ummmmmmm yeah -> umm yeah\n",
    "    \n",
    "    # 불용어 제거 (Text)\n",
    "    if remove_stopwords:\n",
    "        tokens = ' '.join(word for word in sentence.split() if not word in stopwords.words('english') if len(word) > 1)\n",
    "    # 불용어 미제거 (Summary)\n",
    "    else:\n",
    "        tokens = ' '.join(word for word in sentence.split() if len(word) > 1)\n",
    "    return tokens"
   ]
  },
  {
   "cell_type": "code",
   "execution_count": 13,
   "id": "paperback-credits",
   "metadata": {},
   "outputs": [
    {
     "name": "stdout",
     "output_type": "stream",
     "text": [
      "188.27089428901672  seconds\n",
      "['saurav kant alumnus upgrad iiit pg program machine learning artificial intelligence sr systems engineer infosys almost years work experience program upgrad degree career support helped transition data scientist tech mahindra salary hike upgrad online power learning powered lakh careers'\n",
      " 'kunal shah credit card bill payment platform cred gave users chance win free food swiggy one year pranav kaushik delhi techie bagged reward spending cred coins users get one cred coin per rupee bill paid used avail rewards brands like ixigo bookmyshow ubereats cult fit'\n",
      " 'new zealand defeated india wickets fourth odi hamilton thursday win first match five match odi series india lost international match rohit sharma captaincy consecutive victories dating back march match witnessed india getting seventh lowest total odi cricket history'\n",
      " ...\n",
      " 'according reports new version science fiction film matrix development michael jordan reportedly play lead role film screenwriter zak penn talks write script film reports added actor keanu reeves starred original film followed two sequels'\n",
      " 'new music video shows rapper snoop dogg aiming toy gun clown character parodying us president donald trump video also shows tv airing news conference headline ronald klump wants deport doggs airing live clown house video remixed version song lavender'\n",
      " 'madhesi morcha alliance seven political parties withdrawn support pm pushpa kamal dahal led nepal government failed meet seven day ultimatum fulfil demands including endorsement revised constitution amendment bill morcha seats parliament despite withdrawal support immediate threat government']\n",
      "5.8768470287323  seconds\n",
      "['upgrad learner switches to career in ml al with salary hike'\n",
      " 'delhi techie wins free food from swiggy for one year on cred'\n",
      " 'new zealand end rohit sharma led india match winning streak' ...\n",
      " 'the matrix film to get reboot reports'\n",
      " 'snoop dogg aims gun at clown dressed as trump in new video'\n",
      " 'madhesi morcha withdraws support to nepalese government']\n"
     ]
    }
   ],
   "source": [
    "# text의 경우에는 불용어를 제거, headlines 경우에는 불용어를 제거하지 않음.\n",
    "# 따라서 따로 함수를 호출해서 진행. 먼저 text를 전처리\n",
    "# 하지만 싱글 프로세스로 모든 훈련 데이터에 대해서 전처리를 진행하면 시간이 많이 걸림.\n",
    "# 그래서 멀티 프로세싱을 사용\n",
    "\n",
    "import multiprocessing as mp   # 멀티 프로세싱으로 전처리 속도를 획기적으로 줄여봅시다\n",
    "from multiprocessing import Pool\n",
    "import numpy as np\n",
    "import time\n",
    "from functools import partial  # map을 할 때 함수에 여러 인자를 넣어줄 수 있도록 합니다\n",
    "\n",
    "start = time.time()\n",
    "\n",
    "# num_cores 만큼 쪼개진 데이터를 전처리하여 반환합니다\n",
    "def appendTexts(sentences, remove_stopwords):\n",
    "  texts = []\n",
    "  for s in sentences:\n",
    "    texts += preprocess_sentence(s, remove_stopwords),\n",
    "  return texts\n",
    "\n",
    "def preprocess_data(data, remove_stopwords=True):\n",
    "  start_time = time.time()\n",
    "  num_cores = mp.cpu_count()  # 컴퓨터의 코어 수를 구합니다\n",
    "\n",
    "  text_data_split = np.array_split(data, num_cores)  # 코어 수만큼 데이터를 배분하여 병렬적으로 처리할 수 있게 합니다\n",
    "  pool = Pool(num_cores)\n",
    "\n",
    "  processed_data = np.concatenate(pool.map(partial(appendTexts, remove_stopwords=remove_stopwords), text_data_split))  # 각자 작업한 데이터를 하나로 합쳐줍니다\n",
    "  pool.close()\n",
    "  pool.join()\n",
    "  print(time.time() - start_time, \" seconds\")\n",
    "  return processed_data\n",
    "\n",
    "clean_text = preprocess_data(data['text'])  \n",
    "print(clean_text)\n",
    "\n",
    "clean_headlines = preprocess_data(data['headlines'], remove_stopwords=False) \n",
    "print(clean_headlines)\n",
    "# headlines에 대해서 불용어 제거를 수행하지 않겠다는 의미로 false를 두번째 인자에 넣어줌"
   ]
  },
  {
   "cell_type": "code",
   "execution_count": 14,
   "id": "constitutional-turtle",
   "metadata": {},
   "outputs": [],
   "source": [
    "# 텍스트 정제의 과정을 거친 후에는 다시 빈 샘플이 생겼는지 확인.\n",
    "# 정제 전에는 데이터가 존재했으나, 정제 과정에서 문장의 모든 단어가 사라지는 경우가 있기 때문\n",
    "# 쉽게 확인하기 위해서 전처리한 데이터들을 데이터프레임에 재저장하고, 빈값을 가진 샘플이 있음 null값을 가진 샘플로 대체.\n",
    "\n",
    "data['text'] = clean_text\n",
    "data['headlines'] = clean_headlines\n",
    "\n",
    "# 빈 값을 Null 값으로 변환\n",
    "data.replace('', np.nan, inplace=True)"
   ]
  },
  {
   "cell_type": "code",
   "execution_count": 16,
   "id": "million-italian",
   "metadata": {},
   "outputs": [
    {
     "data": {
      "text/plain": [
       "headlines    0\n",
       "text         0\n",
       "dtype: int64"
      ]
     },
     "execution_count": 16,
     "metadata": {},
     "output_type": "execute_result"
    }
   ],
   "source": [
    "# .isnull().sum()을 사용해 null값 확인\n",
    "data.isnull().sum()\n",
    "\n",
    "# 변화 없음"
   ]
  },
  {
   "cell_type": "code",
   "execution_count": 29,
   "id": "western-formation",
   "metadata": {},
   "outputs": [
    {
     "name": "stdout",
     "output_type": "stream",
     "text": [
      "전체 샘플수 : 98324\n"
     ]
    }
   ],
   "source": [
    "data.dropna(axis=0, inplace=True)\n",
    "print('전체 샘플수 :', (len(data)))"
   ]
  },
  {
   "cell_type": "markdown",
   "id": "dress-spelling",
   "metadata": {},
   "source": [
    "### 샘플 최대 길이 정하기"
   ]
  },
  {
   "cell_type": "code",
   "execution_count": 18,
   "id": "classified-omega",
   "metadata": {},
   "outputs": [
    {
     "name": "stdout",
     "output_type": "stream",
     "text": [
      "텍스트의 최소 길이 : 1\n",
      "텍스트의 최대 길이 : 60\n",
      "텍스트의 평균 길이 : 35.09968483123221\n",
      "요약의 최소 길이 : 1\n",
      "요약의 최대 길이 : 16\n",
      "요약의 평균 길이 : 9.299532330215534\n"
     ]
    },
    {
     "data": {
      "image/png": "[encoded data removed]",
      "text/plain": [
       "<Figure size 432x288 with 2 Axes>"
      ]
     },
     "metadata": {
      "needs_background": "light"
     },
     "output_type": "display_data"
    },
    {
     "data": {
      "image/png": "[encoded data removed]",
      "text/plain": [
       "<Figure size 432x288 with 1 Axes>"
      ]
     },
     "metadata": {
      "needs_background": "light"
     },
     "output_type": "display_data"
    },
    {
     "data": {
      "image/png": "[encoded data removed]",
      "text/plain": [
       "<Figure size 432x288 with 1 Axes>"
      ]
     },
     "metadata": {
      "needs_background": "light"
     },
     "output_type": "display_data"
    }
   ],
   "source": [
    "# text와 headlines의 최소, 최대, 평균 길이를 구하고 길이 분포를 시각화\n",
    "\n",
    "# 길이 분포 출력\n",
    "import matplotlib.pyplot as plt\n",
    "\n",
    "text_len = [len(s.split()) for s in data['text']]\n",
    "headlines_len = [len(s.split()) for s in data['headlines']]\n",
    "\n",
    "print('텍스트의 최소 길이 : {}'.format(np.min(text_len)))\n",
    "print('텍스트의 최대 길이 : {}'.format(np.max(text_len)))\n",
    "print('텍스트의 평균 길이 : {}'.format(np.mean(text_len)))\n",
    "print('요약의 최소 길이 : {}'.format(np.min(headlines_len)))\n",
    "print('요약의 최대 길이 : {}'.format(np.max(headlines_len)))\n",
    "print('요약의 평균 길이 : {}'.format(np.mean(headlines_len)))\n",
    "\n",
    "plt.subplot(1,2,1)\n",
    "plt.boxplot(headlines_len)\n",
    "plt.title('headlines')\n",
    "plt.subplot(1,2,2)\n",
    "plt.boxplot(text_len)\n",
    "plt.title('text')\n",
    "plt.tight_layout()\n",
    "plt.show()\n",
    "\n",
    "plt.title('headlines')\n",
    "plt.hist(headlines_len, bins = 40)\n",
    "plt.xlabel('length of samples')\n",
    "plt.ylabel('number of samples')\n",
    "plt.show()\n",
    "\n",
    "plt.title('text')\n",
    "plt.hist(text_len, bins = 40)\n",
    "plt.xlabel('length of samples')\n",
    "plt.ylabel('number of samples')\n",
    "plt.show()"
   ]
  },
  {
   "cell_type": "code",
   "execution_count": 50,
   "id": "junior-crash",
   "metadata": {},
   "outputs": [],
   "source": [
    "# text와 headlines의 최대길이를 임의로 정합니다.\n",
    "text_max_len = 40\n",
    "headlines_max_len = 10"
   ]
  },
  {
   "cell_type": "code",
   "execution_count": 51,
   "id": "standard-shopper",
   "metadata": {},
   "outputs": [],
   "source": [
    "# 임의로 최대길이를 정해줬을 때, 얼마나 많은 샘플들을 자르지 않고 포함할 수 있는지 통계 확인\n",
    "# 이를 통해 객관적으로 길이를 결정하는데 도움이 됨\n",
    "# 훈련 데이터와 샘플의 길이를 입력하면, 데이터의 몇 %가 해당하는지 계산하는 함수 제작\n",
    "\n",
    "def below_threshold_len(max_len, nested_list):\n",
    "  cnt = 0\n",
    "  for s in nested_list:\n",
    "    if(len(s.split()) <= max_len):\n",
    "        cnt = cnt + 1\n",
    "  print('전체 샘플 중 길이가 %s 이하인 샘플의 비율: %s'%(max_len, (cnt / len(nested_list))))"
   ]
  },
  {
   "cell_type": "code",
   "execution_count": 52,
   "id": "juvenile-cargo",
   "metadata": {},
   "outputs": [
    {
     "name": "stdout",
     "output_type": "stream",
     "text": [
      "전체 샘플 중 길이가 40 이하인 샘플의 비율: 0.9264699533759282\n",
      "전체 샘플 중 길이가 10 이하인 샘플의 비율: 0.8639375755482646\n"
     ]
    }
   ],
   "source": [
    "# 이 함수를 이용, text와 headlines에 적용해 우리가 결정한 임의의 길이가 몇 %의 샘플까지 포함하는지 확인\n",
    "below_threshold_len(text_max_len, data['text'])\n",
    "below_threshold_len(headlines_max_len,  data['headlines'])\n",
    "\n",
    "# 40과 10로 각각 패딩하면, 해당 길이보다 긴 샘플들은 내용이 잘리게 됨."
   ]
  },
  {
   "cell_type": "code",
   "execution_count": 53,
   "id": "alert-biodiversity",
   "metadata": {},
   "outputs": [
    {
     "name": "stdout",
     "output_type": "stream",
     "text": [
      "전체 샘플수 : 74102\n"
     ]
    }
   ],
   "source": [
    "# 정해진 길이보다 길면 제외하는 방법으로 데이터 정제\n",
    "data = data[data['text'].apply(lambda x: len(x.split()) <= text_max_len)]\n",
    "data = data[data['headlines'].apply(lambda x: len(x.split()) <= headlines_max_len)]\n",
    "print('전체 샘플수 :', (len(data)))"
   ]
  },
  {
   "cell_type": "markdown",
   "id": "extensive-cassette",
   "metadata": {},
   "source": [
    "### 시작 토큰과 종료 토큰 추가"
   ]
  },
  {
   "cell_type": "code",
   "execution_count": 54,
   "id": "fatty-charm",
   "metadata": {},
   "outputs": [
    {
     "data": {
      "text/html": [
       "<div>\n",
       "<style scoped>\n",
       "    .dataframe tbody tr th:only-of-type {\n",
       "        vertical-align: middle;\n",
       "    }\n",
       "\n",
       "    .dataframe tbody tr th {\n",
       "        vertical-align: top;\n",
       "    }\n",
       "\n",
       "    .dataframe thead th {\n",
       "        text-align: right;\n",
       "    }\n",
       "</style>\n",
       "<table border=\"1\" class=\"dataframe\">\n",
       "  <thead>\n",
       "    <tr style=\"text-align: right;\">\n",
       "      <th></th>\n",
       "      <th>headlines</th>\n",
       "      <th>text</th>\n",
       "      <th>decoder_input</th>\n",
       "      <th>decoder_target</th>\n",
       "    </tr>\n",
       "  </thead>\n",
       "  <tbody>\n",
       "    <tr>\n",
       "      <th>2</th>\n",
       "      <td>new zealand end rohit sharma led india match w...</td>\n",
       "      <td>new zealand defeated india wickets fourth odi ...</td>\n",
       "      <td>sostoken new zealand end rohit sharma led indi...</td>\n",
       "      <td>new zealand end rohit sharma led india match w...</td>\n",
       "    </tr>\n",
       "    <tr>\n",
       "      <th>3</th>\n",
       "      <td>aegon life iterm insurance plan helps customer...</td>\n",
       "      <td>aegon life iterm insurance plan customers enjo...</td>\n",
       "      <td>sostoken aegon life iterm insurance plan helps...</td>\n",
       "      <td>aegon life iterm insurance plan helps customer...</td>\n",
       "    </tr>\n",
       "    <tr>\n",
       "      <th>5</th>\n",
       "      <td>rahat fateh ali khan denies getting notice for...</td>\n",
       "      <td>pakistani singer rahat fateh ali khan denied r...</td>\n",
       "      <td>sostoken rahat fateh ali khan denies getting n...</td>\n",
       "      <td>rahat fateh ali khan denies getting notice for...</td>\n",
       "    </tr>\n",
       "    <tr>\n",
       "      <th>9</th>\n",
       "      <td>cong wins ramgarh bypoll in rajasthan takes to...</td>\n",
       "      <td>congress candidate shafia zubair ramgarh assem...</td>\n",
       "      <td>sostoken cong wins ramgarh bypoll in rajasthan...</td>\n",
       "      <td>cong wins ramgarh bypoll in rajasthan takes to...</td>\n",
       "    </tr>\n",
       "    <tr>\n",
       "      <th>10</th>\n",
       "      <td>up cousins fed human excreta for friendship wi...</td>\n",
       "      <td>two minor cousins uttar pradesh gorakhpur alle...</td>\n",
       "      <td>sostoken up cousins fed human excreta for frie...</td>\n",
       "      <td>up cousins fed human excreta for friendship wi...</td>\n",
       "    </tr>\n",
       "  </tbody>\n",
       "</table>\n",
       "</div>"
      ],
      "text/plain": [
       "                                            headlines  \\\n",
       "2   new zealand end rohit sharma led india match w...   \n",
       "3   aegon life iterm insurance plan helps customer...   \n",
       "5   rahat fateh ali khan denies getting notice for...   \n",
       "9   cong wins ramgarh bypoll in rajasthan takes to...   \n",
       "10  up cousins fed human excreta for friendship wi...   \n",
       "\n",
       "                                                 text  \\\n",
       "2   new zealand defeated india wickets fourth odi ...   \n",
       "3   aegon life iterm insurance plan customers enjo...   \n",
       "5   pakistani singer rahat fateh ali khan denied r...   \n",
       "9   congress candidate shafia zubair ramgarh assem...   \n",
       "10  two minor cousins uttar pradesh gorakhpur alle...   \n",
       "\n",
       "                                        decoder_input  \\\n",
       "2   sostoken new zealand end rohit sharma led indi...   \n",
       "3   sostoken aegon life iterm insurance plan helps...   \n",
       "5   sostoken rahat fateh ali khan denies getting n...   \n",
       "9   sostoken cong wins ramgarh bypoll in rajasthan...   \n",
       "10  sostoken up cousins fed human excreta for frie...   \n",
       "\n",
       "                                       decoder_target  \n",
       "2   new zealand end rohit sharma led india match w...  \n",
       "3   aegon life iterm insurance plan helps customer...  \n",
       "5   rahat fateh ali khan denies getting notice for...  \n",
       "9   cong wins ramgarh bypoll in rajasthan takes to...  \n",
       "10  up cousins fed human excreta for friendship wi...  "
      ]
     },
     "execution_count": 54,
     "metadata": {},
     "output_type": "execute_result"
    }
   ],
   "source": [
    "# seq2seq 훈련을 위해서 디코더에 시작 토큰과 종료 토큰을 추가\n",
    "# 시작 토큰은 sostoken, 종료 토큰은 eostoken이라고 지정\n",
    "# 디코더 입력에 해당하면서 시작 토큰이 맨 앞에 있는 문장의 이름을 decoder_input\n",
    "# 디코더의 출력 또는 레이블에 해당되면서 종료 토큰이 맨 뒤에 붙는 문장의 이름을 decoder_target\n",
    "# 두 개의 문장 모두 headlines 열로부터 만듬\n",
    "\n",
    "# 요약 데이터에는 시작 토큰과 종료 토큰을 추가한다.\n",
    "data['decoder_input'] = data['headlines'].apply(lambda x : 'sostoken '+ x)\n",
    "data['decoder_target'] = data['headlines'].apply(lambda x : x + ' eostoken')\n",
    "data.head()"
   ]
  },
  {
   "cell_type": "code",
   "execution_count": 56,
   "id": "hidden-appendix",
   "metadata": {},
   "outputs": [],
   "source": [
    "# 인코더의 입력, 디코더의 입력과 레이블을 각각 다시 numpy 타입으로 저장\n",
    "\n",
    "encoder_input = np.array(data['text']) # 인코더의 입력\n",
    "decoder_input = np.array(data['decoder_input']) # 디코더의 입력\n",
    "decoder_target = np.array(data['decoder_target']) # 디코더의 레이블"
   ]
  },
  {
   "cell_type": "markdown",
   "id": "tested-leone",
   "metadata": {},
   "source": [
    "### 훈련 데이터 테스트 데이터 분리"
   ]
  },
  {
   "cell_type": "code",
   "execution_count": 57,
   "id": "sorted-stable",
   "metadata": {},
   "outputs": [
    {
     "name": "stdout",
     "output_type": "stream",
     "text": [
      "[30162    44 19711 ... 22141 68174  5263]\n"
     ]
    }
   ],
   "source": [
    "# 직접 데이터셋을 분리하는 방법을 사용\n",
    "# 우선 encoder_input과 크기와 형태가 같은 순서가 섞인 정수 시퀀스를 만듬\n",
    "\n",
    "indices = np.arange(encoder_input.shape[0])\n",
    "np.random.shuffle(indices)\n",
    "print(indices)"
   ]
  },
  {
   "cell_type": "code",
   "execution_count": 58,
   "id": "copyrighted-rhythm",
   "metadata": {},
   "outputs": [],
   "source": [
    "# 이 정수 시퀀스를 이용해서 다시 데이터의 샘플 순서를 정의\n",
    "encoder_input = encoder_input[indices]\n",
    "decoder_input = decoder_input[indices]\n",
    "decoder_target = decoder_target[indices]"
   ]
  },
  {
   "cell_type": "code",
   "execution_count": 59,
   "id": "dressed-bernard",
   "metadata": {},
   "outputs": [
    {
     "name": "stdout",
     "output_type": "stream",
     "text": [
      "테스트 데이터의 수 : 14820\n"
     ]
    }
   ],
   "source": [
    "# 8:2 비율로 훈련 데이터와 테스트 데이터로 분리\n",
    "# 전체 데이터의 크기에서 0.2를 곱해서 테스트 데이터의 크기로 지정\n",
    "\n",
    "n_of_val = int(len(encoder_input)*0.2)\n",
    "print('테스트 데이터의 수 :', n_of_val)"
   ]
  },
  {
   "cell_type": "code",
   "execution_count": 60,
   "id": "arctic-audit",
   "metadata": {},
   "outputs": [
    {
     "name": "stdout",
     "output_type": "stream",
     "text": [
      "훈련 데이터의 개수 : 59282\n",
      "훈련 레이블의 개수 : 59282\n",
      "테스트 데이터의 개수 : 14820\n",
      "테스트 레이블의 개수 : 14820\n"
     ]
    }
   ],
   "source": [
    "# 이렇게 정의한 테스트 데이터의 개수를 이용해서 전체 데이터를 양분\n",
    "encoder_input_train = encoder_input[:-n_of_val]\n",
    "decoder_input_train = decoder_input[:-n_of_val]\n",
    "decoder_target_train = decoder_target[:-n_of_val]\n",
    "\n",
    "encoder_input_test = encoder_input[-n_of_val:]\n",
    "decoder_input_test = decoder_input[-n_of_val:]\n",
    "decoder_target_test = decoder_target[-n_of_val:]\n",
    "\n",
    "print('훈련 데이터의 개수 :', len(encoder_input_train))\n",
    "print('훈련 레이블의 개수 :', len(decoder_input_train))\n",
    "print('테스트 데이터의 개수 :', len(encoder_input_test))\n",
    "print('테스트 레이블의 개수 :', len(decoder_input_test))"
   ]
  },
  {
   "cell_type": "markdown",
   "id": "addressed-massachusetts",
   "metadata": {},
   "source": [
    "### 단어집합 만들기 및 정수 인코딩"
   ]
  },
  {
   "cell_type": "code",
   "execution_count": 61,
   "id": "dynamic-tennessee",
   "metadata": {},
   "outputs": [],
   "source": [
    "# 기계가 텍스트를 숫자로 처리할 수 있도록 훈련 데이터와 테스트 데이터의 단어들을 모두 정수로 변환\n",
    "# 이를 위해서 각 단어의 고유한 정수를 맵핑하는 작업이 필요. 이과정을 단어 집합을 만든다고 표현\n",
    "# 원문에 해당되는 encoder_input_train에 대해서 단어 집합을 만듬\n",
    "\n",
    "# keras 토크나이저를 사용하면, 입력된 훈련 데이터로부터 단어 집합을 만들 수 있음\n",
    "src_tokenizer = Tokenizer() # 토크나이저 정의\n",
    "src_tokenizer.fit_on_texts(encoder_input_train) # 입력된 데이터로부터 단어 집합 생성"
   ]
  },
  {
   "cell_type": "code",
   "execution_count": 62,
   "id": "respected-metallic",
   "metadata": {},
   "outputs": [
    {
     "name": "stdout",
     "output_type": "stream",
     "text": [
      "단어 집합(vocabulary)의 크기 : 61724\n",
      "등장 빈도가 6번 이하인 희귀 단어의 수: 42474\n",
      "단어 집합에서 희귀 단어를 제외시킬 경우의 단어 집합의 크기 19250\n",
      "단어 집합에서 희귀 단어의 비율: 68.81277946989826\n",
      "전체 등장 빈도에서 희귀 단어 등장 빈도 비율: 4.220416549191691\n"
     ]
    }
   ],
   "source": [
    "# 단어 집합이 생성되는 동시에 각 단어에 고유한 정수가 부여됨\n",
    "# 생성죈 단어 집합은 src_tokenizer.word_index에 저장되어 있음.\n",
    "# 하지만 만든 단어집합에 있는 모든 단어를 사용하지 않고 빈도수가 낮은 단어는 훈련 데이터에서 제외\n",
    "\n",
    "# 등장 빈도수가 7회 미만인 단어들의 비중을 확인\n",
    "# src_tokenizer.word_counts.items() 에서 각 단어의 등장 빈도수를 보여줌\n",
    "\n",
    "threshold = 7\n",
    "total_cnt = len(src_tokenizer.word_index) # 단어의 수\n",
    "rare_cnt = 0 # 등장 빈도수가 threshold보다 작은 단어의 개수를 카운트\n",
    "total_freq = 0 # 훈련 데이터의 전체 단어 빈도수 총 합\n",
    "rare_freq = 0 # 등장 빈도수가 threshold보다 작은 단어의 등장 빈도수의 총 합\n",
    "\n",
    "# 단어와 빈도수의 쌍(pair)을 key와 value로 받는다.\n",
    "for key, value in src_tokenizer.word_counts.items():\n",
    "    total_freq = total_freq + value\n",
    "\n",
    "    # 단어의 등장 빈도수가 threshold보다 작으면\n",
    "    if(value < threshold):\n",
    "        rare_cnt = rare_cnt + 1\n",
    "        rare_freq = rare_freq + value\n",
    "\n",
    "print('단어 집합(vocabulary)의 크기 :', total_cnt)\n",
    "print('등장 빈도가 %s번 이하인 희귀 단어의 수: %s'%(threshold - 1, rare_cnt))\n",
    "print('단어 집합에서 희귀 단어를 제외시킬 경우의 단어 집합의 크기 %s'%(total_cnt - rare_cnt))\n",
    "print(\"단어 집합에서 희귀 단어의 비율:\", (rare_cnt / total_cnt)*100)\n",
    "print(\"전체 등장 빈도에서 희귀 단어 등장 빈도 비율:\", (rare_freq / total_freq)*100)\n",
    "\n",
    "# 등장 빈도가 threshold값인 7회 미만인 단어들은 단어 집합에서 70%이상을 차지\n",
    "# 실제로 훈련 데이터에서 등장 빈도로 차지하는 비중은 상대적으로 적은 수치인 3.39%\n",
    "# 그래서 등장 빈도가 7회 미만인 단어들은 정수 인코딩 과정에서 빼고, 훈련 데이터에서 제고"
   ]
  },
  {
   "cell_type": "code",
   "execution_count": 63,
   "id": "severe-education",
   "metadata": {},
   "outputs": [],
   "source": [
    "# 등장 빈도가 7회 미만인 단어를 제외한 단어 집합의 크기가 19250이었는데, 이를 어리잡아 단어 집합의 크기를 19000으로 제한\n",
    "# num_words의 값을 정해주면, 단어 집합의 크기를 제한할 수 있다.\n",
    "\n",
    "src_vocab = 19000\n",
    "src_tokenizer = Tokenizer(num_words=src_vocab) # 단어 집합의 크기를 19000으로 제한\n",
    "src_tokenizer.fit_on_texts(encoder_input_train) # 단어 집합 재생성."
   ]
  },
  {
   "cell_type": "code",
   "execution_count": 64,
   "id": "promotional-barcelona",
   "metadata": {},
   "outputs": [
    {
     "name": "stdout",
     "output_type": "stream",
     "text": [
      "[[490, 886, 119, 2335, 2563, 4905, 35, 1146, 96, 1779, 586, 714, 1410, 233, 1664, 921, 4952, 869, 493, 490, 2093, 1637, 1800, 4905, 1293, 893, 7252, 657, 369, 620, 129, 502, 31, 139, 493, 3189, 7675, 648, 174, 186], [8, 68, 53, 1, 8645, 6990, 5726, 87, 9, 2, 527, 2437, 13151, 15111, 5726, 2940, 34, 68, 4, 527, 995, 209, 8645, 6990, 1563, 3, 3559, 1889, 811, 407, 20, 68, 1], [32, 285, 123, 10646, 2218, 8455, 32, 222, 123, 13694, 542, 193, 1685, 2758, 6071, 98, 276, 1044, 49, 10, 98, 66, 542, 481, 1980, 1024, 93, 175, 292, 756, 7531, 313, 1127, 7532, 5517, 481, 1502, 1024]]\n"
     ]
    }
   ],
   "source": [
    "# texts_to_sequences()는 생성된 단어 집합에 기반하여 입력으로 주어진 텍스트 데이터의 단어들을 모두 정수로 변환하는 정수 인코딩을 수행 \n",
    "# 현재 단어 집합의 크기를 19000으로 제한했으니까 이제 19000이 넘는 숫자들은 정수 인코딩 후에는 데이터에 존재하지 않음\n",
    "\n",
    "# 텍스트 시퀀스를 정수 시퀀스로 변환\n",
    "encoder_input_train = src_tokenizer.texts_to_sequences(encoder_input_train) \n",
    "encoder_input_test = src_tokenizer.texts_to_sequences(encoder_input_test)\n",
    "\n",
    "# 잘 진행되었는지 샘플 출력\n",
    "print(encoder_input_train[:3])"
   ]
  },
  {
   "cell_type": "code",
   "execution_count": 65,
   "id": "heavy-heath",
   "metadata": {},
   "outputs": [],
   "source": [
    "# 더이상 텍스트 데이터가 아니라 정수가 나오고 있다.\n",
    "# summary에도 동일한 작업\n",
    "tar_tokenizer = Tokenizer()\n",
    "tar_tokenizer.fit_on_texts(decoder_input_train)"
   ]
  },
  {
   "cell_type": "code",
   "execution_count": 66,
   "id": "documentary-transition",
   "metadata": {},
   "outputs": [
    {
     "name": "stdout",
     "output_type": "stream",
     "text": [
      "단어 집합(vocabulary)의 크기 : 27293\n",
      "등장 빈도가 5번 이하인 희귀 단어의 수: 18262\n",
      "단어 집합에서 희귀 단어를 제외시킬 경우의 단어 집합의 크기 9031\n",
      "단어 집합에서 희귀 단어의 비율: 66.9109295423735\n",
      "전체 등장 빈도에서 희귀 단어 등장 빈도 비율: 6.018981833537319\n"
     ]
    }
   ],
   "source": [
    "# 고유한 정수가 부여되어있는데, 이는 tar_tokenizer.word_index에 저장되어 있음\n",
    "# tar_tokenizer.word_counts.items()에는 단어와 각 단어의 등장 빈도수가 저장되어 있음\n",
    "# 이를 통해 통계적 정보를 얻음\n",
    "# 나온 정보를 활용해서 등장 빈도수가 6회 미만인 단어들이 이 데이터에서 얼마만큼 비중을 차지하는지 확인\n",
    "\n",
    "threshold = 6\n",
    "total_cnt = len(tar_tokenizer.word_index) # 단어의 수\n",
    "rare_cnt = 0 # 등장 빈도수가 threshold보다 작은 단어의 개수를 카운트\n",
    "total_freq = 0 # 훈련 데이터의 전체 단어 빈도수 총 합\n",
    "rare_freq = 0 # 등장 빈도수가 threshold보다 작은 단어의 등장 빈도수의 총 합\n",
    "\n",
    "# 단어와 빈도수의 쌍(pair)을 key와 value로 받는다.\n",
    "for key, value in tar_tokenizer.word_counts.items():\n",
    "    total_freq = total_freq + value\n",
    "\n",
    "    # 단어의 등장 빈도수가 threshold보다 작으면\n",
    "    if(value < threshold):\n",
    "        rare_cnt = rare_cnt + 1\n",
    "        rare_freq = rare_freq + value\n",
    "\n",
    "print('단어 집합(vocabulary)의 크기 :', total_cnt)\n",
    "print('등장 빈도가 %s번 이하인 희귀 단어의 수: %s'%(threshold - 1, rare_cnt))\n",
    "print('단어 집합에서 희귀 단어를 제외시킬 경우의 단어 집합의 크기 %s'%(total_cnt - rare_cnt))\n",
    "print(\"단어 집합에서 희귀 단어의 비율:\", (rare_cnt / total_cnt)*100)\n",
    "print(\"전체 등장 빈도에서 희귀 단어 등장 빈도 비율:\", (rare_freq / total_freq)*100)"
   ]
  },
  {
   "cell_type": "code",
   "execution_count": 67,
   "id": "massive-sydney",
   "metadata": {},
   "outputs": [
    {
     "name": "stdout",
     "output_type": "stream",
     "text": [
      "input\n",
      "input  [[1, 576, 1022, 175, 216, 4476, 476, 2404, 3, 7565, 466], [1, 4676, 3690, 4477, 256, 4, 371], [1, 1447, 2734, 499, 24, 92, 6, 1131, 511], [1, 3211, 16, 2223, 4899, 109, 37, 1005, 41, 943], [1, 196, 176, 212, 589, 1916, 341, 16, 48, 3008, 67]]\n",
      "target\n",
      "decoder  [[576, 1022, 175, 216, 4476, 476, 2404, 3, 7565, 466, 2], [4676, 3690, 4477, 256, 4, 371, 2], [1447, 2734, 499, 24, 92, 6, 1131, 511, 2], [3211, 16, 2223, 4899, 109, 37, 1005, 41, 943, 2], [196, 176, 212, 589, 1916, 341, 16, 48, 3008, 67, 2]]\n"
     ]
    }
   ],
   "source": [
    "# 등장 빈도가 5이하인 단어는 약 67%\n",
    "# 하지만 실제로 훈련 데이터에서 등장 빈도로 차지하는 비중은 상대적으로 적은 6% 밖에 안됨\n",
    "# 아까와 비슷하게 이 단어들을 모두 제거.\n",
    "# 어림잡아 9000을 단어 집합의 크기제한으로 설정\n",
    "\n",
    "tar_vocab = 9000\n",
    "tar_tokenizer = Tokenizer(num_words=tar_vocab) \n",
    "tar_tokenizer.fit_on_texts(decoder_input_train)\n",
    "tar_tokenizer.fit_on_texts(decoder_target_train)\n",
    "\n",
    "# 텍스트 시퀀스를 정수 시퀀스로 변환\n",
    "decoder_input_train = tar_tokenizer.texts_to_sequences(decoder_input_train) \n",
    "decoder_target_train = tar_tokenizer.texts_to_sequences(decoder_target_train)\n",
    "decoder_input_test = tar_tokenizer.texts_to_sequences(decoder_input_test)\n",
    "decoder_target_test = tar_tokenizer.texts_to_sequences(decoder_target_test)\n",
    "\n",
    "# 잘 변환되었는지 확인\n",
    "print('input')\n",
    "print('input ',decoder_input_train[:5])\n",
    "print('target')\n",
    "print('decoder ',decoder_target_train[:5])"
   ]
  },
  {
   "cell_type": "markdown",
   "id": "universal-series",
   "metadata": {},
   "source": [
    "전체 데이터에서 빈도수가 낮은 단어가 삭제되었다는 것은 빈도수가 낮은 단어만으로 구성되었던 샘플들은 이제 빈(empty) 샘플이 되었을 가능성이 있어요. 이 현상은 길이가 상대적으로 길었던 원문(Text)의 경우에는 문제가 별로 없겠지만, 애초에 평균 길이가 9밖에 되지 않았던 headlines 의 경우에는 이 현상이 굉장히 두드러졌을 가능성이 높겠죠.\n",
    "\n",
    "요약문에서 길이가 0이 된 샘플들의 인덱스를 받아와볼게요. 여기서 주의할 점은 요약문인 decoder_input에는 sostoken 또는 decoder_target에는 eostoken이 추가된 상태이고, 이 두 토큰은 모든 샘플에서 등장하므로 빈도수가 샘플 수와 동일하게 매우 높으므로 단어 집합 제한에도 삭제되지 않아요. 그래서 이제 길이가 0이 된 요약문의 실제 길이는 1로 나올 거예요. 길이 0이 된 decoder_input에는 sostoken, decoder_target에는 eostoken만 남아 있을 테니까요.\n",
    "\n",
    "훈련 데이터와 테스트 데이터에 대해서 요약문의 길이가 1인 경우의 인덱스를 각각 drop_train과 drop_test에 라는 변수에 저장해볼게요. 이 샘플들은 모두 삭제할 거예요."
   ]
  },
  {
   "cell_type": "code",
   "execution_count": 68,
   "id": "documented-alarm",
   "metadata": {},
   "outputs": [
    {
     "name": "stdout",
     "output_type": "stream",
     "text": [
      "삭제할 훈련 데이터의 개수 : 1\n",
      "삭제할 테스트 데이터의 개수 : 0\n",
      "훈련 데이터의 개수 : 59281\n",
      "훈련 레이블의 개수 : 59281\n",
      "테스트 데이터의 개수 : 14820\n",
      "테스트 레이블의 개수 : 14820\n"
     ]
    },
    {
     "name": "stderr",
     "output_type": "stream",
     "text": [
      "/opt/conda/lib/python3.7/site-packages/numpy/core/_asarray.py:83: VisibleDeprecationWarning: Creating an ndarray from ragged nested sequences (which is a list-or-tuple of lists-or-tuples-or ndarrays with different lengths or shapes) is deprecated. If you meant to do this, you must specify 'dtype=object' when creating the ndarray\n",
      "  return array(a, dtype, copy=False, order=order)\n"
     ]
    }
   ],
   "source": [
    "drop_train = [index for index, sentence in enumerate(decoder_input_train) if len(sentence) == 1]\n",
    "drop_test = [index for index, sentence in enumerate(decoder_input_test) if len(sentence) == 1]\n",
    "\n",
    "print('삭제할 훈련 데이터의 개수 :', len(drop_train))\n",
    "print('삭제할 테스트 데이터의 개수 :', len(drop_test))\n",
    "\n",
    "encoder_input_train = np.delete(encoder_input_train, drop_train, axis=0)\n",
    "decoder_input_train = np.delete(decoder_input_train, drop_train, axis=0)\n",
    "decoder_target_train = np.delete(decoder_target_train, drop_train, axis=0)\n",
    "\n",
    "encoder_input_test = np.delete(encoder_input_test, drop_test, axis=0)\n",
    "decoder_input_test = np.delete(decoder_input_test, drop_test, axis=0)\n",
    "decoder_target_test = np.delete(decoder_target_test, drop_test, axis=0)\n",
    "\n",
    "print('훈련 데이터의 개수 :', len(encoder_input_train))\n",
    "print('훈련 레이블의 개수 :', len(decoder_input_train))\n",
    "print('테스트 데이터의 개수 :', len(encoder_input_test))\n",
    "print('테스트 레이블의 개수 :', len(decoder_input_test))"
   ]
  },
  {
   "cell_type": "markdown",
   "id": "moved-probe",
   "metadata": {},
   "source": [
    "### 패딩하기"
   ]
  },
  {
   "cell_type": "code",
   "execution_count": 70,
   "id": "cheap-growing",
   "metadata": {},
   "outputs": [],
   "source": [
    "encoder_input_train = pad_sequences(encoder_input_train, maxlen=text_max_len, padding='post')\n",
    "encoder_input_test = pad_sequences(encoder_input_test, maxlen=text_max_len, padding='post')\n",
    "decoder_input_train = pad_sequences(decoder_input_train, maxlen=headlines_max_len, padding='post')\n",
    "decoder_target_train = pad_sequences(decoder_target_train, maxlen=headlines_max_len, padding='post')\n",
    "decoder_input_test = pad_sequences(decoder_input_test, maxlen=headlines_max_len, padding='post')\n",
    "decoder_target_test = pad_sequences(decoder_target_test, maxlen=headlines_max_len, padding='post')"
   ]
  },
  {
   "cell_type": "markdown",
   "id": "turned-valentine",
   "metadata": {},
   "source": [
    "# 모델 설계"
   ]
  },
  {
   "cell_type": "code",
   "execution_count": 71,
   "id": "material-cocktail",
   "metadata": {},
   "outputs": [
    {
     "name": "stdout",
     "output_type": "stream",
     "text": [
      "WARNING:tensorflow:Layer lstm will not use cuDNN kernel since it doesn't meet the cuDNN kernel criteria. It will use generic GPU kernel as fallback when running on GPU\n",
      "WARNING:tensorflow:Layer lstm_1 will not use cuDNN kernel since it doesn't meet the cuDNN kernel criteria. It will use generic GPU kernel as fallback when running on GPU\n",
      "WARNING:tensorflow:Layer lstm_2 will not use cuDNN kernel since it doesn't meet the cuDNN kernel criteria. It will use generic GPU kernel as fallback when running on GPU\n"
     ]
    }
   ],
   "source": [
    "from tensorflow.keras.layers import Input, LSTM, Embedding, Dense, Concatenate\n",
    "from tensorflow.keras.models import Model\n",
    "from tensorflow.keras.callbacks import EarlyStopping, ModelCheckpoint\n",
    "\n",
    "\n",
    "# 인코더 설계 시작\n",
    "embedding_dim = 128\n",
    "hidden_size = 256\n",
    "\n",
    "# 인코더\n",
    "encoder_inputs = Input(shape=(text_max_len,))\n",
    "\n",
    "# 인코더의 임베딩 층\n",
    "enc_emb = Embedding(src_vocab, embedding_dim)(encoder_inputs)\n",
    "\n",
    "# 인코더의 LSTM 1\n",
    "encoder_lstm1 = LSTM(hidden_size, return_sequences=True, return_state=True ,dropout = 0.4, recurrent_dropout = 0.4)\n",
    "encoder_output1, state_h1, state_c1 = encoder_lstm1(enc_emb)\n",
    "\n",
    "# 인코더의 LSTM 2\n",
    "encoder_lstm2 = LSTM(hidden_size, return_sequences=True, return_state=True, dropout=0.4, recurrent_dropout=0.4)\n",
    "encoder_output2, state_h2, state_c2 = encoder_lstm2(encoder_output1)\n",
    "\n",
    "# 인코더의 LSTM 3\n",
    "encoder_lstm3 = LSTM(hidden_size, return_state=True, return_sequences=True, dropout=0.4, recurrent_dropout=0.4)\n",
    "encoder_outputs, state_h, state_c= encoder_lstm3(encoder_output2)"
   ]
  },
  {
   "cell_type": "markdown",
   "id": "premier-style",
   "metadata": {},
   "source": [
    "### 디코더 설계"
   ]
  },
  {
   "cell_type": "code",
   "execution_count": 72,
   "id": "outdoor-hollywood",
   "metadata": {},
   "outputs": [
    {
     "name": "stdout",
     "output_type": "stream",
     "text": [
      "WARNING:tensorflow:Layer lstm_3 will not use cuDNN kernel since it doesn't meet the cuDNN kernel criteria. It will use generic GPU kernel as fallback when running on GPU\n"
     ]
    }
   ],
   "source": [
    "# 디코더 설계\n",
    "decoder_inputs = Input(shape=(None,))\n",
    "\n",
    "# 디코더의 임베딩 층\n",
    "dec_emb_layer = Embedding(tar_vocab, embedding_dim)\n",
    "dec_emb = dec_emb_layer(decoder_inputs)\n",
    "\n",
    "# 디코더의 LSTM\n",
    "decoder_lstm = LSTM(hidden_size, return_sequences=True, return_state=True, dropout=0.4, recurrent_dropout=0.2)\n",
    "decoder_outputs, _, _ = decoder_lstm(dec_emb, initial_state=[state_h, state_c])"
   ]
  },
  {
   "cell_type": "code",
   "execution_count": 73,
   "id": "harmful-container",
   "metadata": {},
   "outputs": [
    {
     "name": "stdout",
     "output_type": "stream",
     "text": [
      "Model: \"model\"\n",
      "__________________________________________________________________________________________________\n",
      "Layer (type)                    Output Shape         Param #     Connected to                     \n",
      "==================================================================================================\n",
      "input_1 (InputLayer)            [(None, 40)]         0                                            \n",
      "__________________________________________________________________________________________________\n",
      "embedding (Embedding)           (None, 40, 128)      2432000     input_1[0][0]                    \n",
      "__________________________________________________________________________________________________\n",
      "lstm (LSTM)                     [(None, 40, 256), (N 394240      embedding[0][0]                  \n",
      "__________________________________________________________________________________________________\n",
      "input_2 (InputLayer)            [(None, None)]       0                                            \n",
      "__________________________________________________________________________________________________\n",
      "lstm_1 (LSTM)                   [(None, 40, 256), (N 525312      lstm[0][0]                       \n",
      "__________________________________________________________________________________________________\n",
      "embedding_1 (Embedding)         (None, None, 128)    1152000     input_2[0][0]                    \n",
      "__________________________________________________________________________________________________\n",
      "lstm_2 (LSTM)                   [(None, 40, 256), (N 525312      lstm_1[0][0]                     \n",
      "__________________________________________________________________________________________________\n",
      "lstm_3 (LSTM)                   [(None, None, 256),  394240      embedding_1[0][0]                \n",
      "                                                                 lstm_2[0][1]                     \n",
      "                                                                 lstm_2[0][2]                     \n",
      "__________________________________________________________________________________________________\n",
      "dense (Dense)                   (None, None, 9000)   2313000     lstm_3[0][0]                     \n",
      "==================================================================================================\n",
      "Total params: 7,736,104\n",
      "Trainable params: 7,736,104\n",
      "Non-trainable params: 0\n",
      "__________________________________________________________________________________________________\n"
     ]
    }
   ],
   "source": [
    "# 디코더의 출력층\n",
    "decoder_softmax_layer = Dense(tar_vocab, activation='softmax')\n",
    "decoder_softmax_outputs = decoder_softmax_layer(decoder_outputs) \n",
    "\n",
    "# 모델 정의\n",
    "model = Model([encoder_inputs, decoder_inputs], decoder_softmax_outputs)\n",
    "model.summary()"
   ]
  },
  {
   "cell_type": "markdown",
   "id": "deluxe-works",
   "metadata": {},
   "source": [
    "# 어텐션"
   ]
  },
  {
   "cell_type": "code",
   "execution_count": 74,
   "id": "partial-ranch",
   "metadata": {},
   "outputs": [],
   "source": [
    "urllib.request.urlretrieve(\"https://raw.githubusercontent.com/thushv89/attention_keras/master/src/layers/attention.py\", filename=\"attention.py\")\n",
    "from attention import AttentionLayer"
   ]
  },
  {
   "cell_type": "code",
   "execution_count": 75,
   "id": "governmental-gather",
   "metadata": {},
   "outputs": [
    {
     "name": "stdout",
     "output_type": "stream",
     "text": [
      "Model: \"model_1\"\n",
      "__________________________________________________________________________________________________\n",
      "Layer (type)                    Output Shape         Param #     Connected to                     \n",
      "==================================================================================================\n",
      "input_1 (InputLayer)            [(None, 40)]         0                                            \n",
      "__________________________________________________________________________________________________\n",
      "embedding (Embedding)           (None, 40, 128)      2432000     input_1[0][0]                    \n",
      "__________________________________________________________________________________________________\n",
      "lstm (LSTM)                     [(None, 40, 256), (N 394240      embedding[0][0]                  \n",
      "__________________________________________________________________________________________________\n",
      "input_2 (InputLayer)            [(None, None)]       0                                            \n",
      "__________________________________________________________________________________________________\n",
      "lstm_1 (LSTM)                   [(None, 40, 256), (N 525312      lstm[0][0]                       \n",
      "__________________________________________________________________________________________________\n",
      "embedding_1 (Embedding)         (None, None, 128)    1152000     input_2[0][0]                    \n",
      "__________________________________________________________________________________________________\n",
      "lstm_2 (LSTM)                   [(None, 40, 256), (N 525312      lstm_1[0][0]                     \n",
      "__________________________________________________________________________________________________\n",
      "lstm_3 (LSTM)                   [(None, None, 256),  394240      embedding_1[0][0]                \n",
      "                                                                 lstm_2[0][1]                     \n",
      "                                                                 lstm_2[0][2]                     \n",
      "__________________________________________________________________________________________________\n",
      "attention_layer (AttentionLayer ((None, None, 256),  131328      lstm_2[0][0]                     \n",
      "                                                                 lstm_3[0][0]                     \n",
      "__________________________________________________________________________________________________\n",
      "concat_layer (Concatenate)      (None, None, 512)    0           lstm_3[0][0]                     \n",
      "                                                                 attention_layer[0][0]            \n",
      "__________________________________________________________________________________________________\n",
      "dense_1 (Dense)                 (None, None, 9000)   4617000     concat_layer[0][0]               \n",
      "==================================================================================================\n",
      "Total params: 10,171,432\n",
      "Trainable params: 10,171,432\n",
      "Non-trainable params: 0\n",
      "__________________________________________________________________________________________________\n"
     ]
    }
   ],
   "source": [
    "# 어텐션 층(어텐션 함수)\n",
    "attn_layer = AttentionLayer(name='attention_layer')\n",
    "# 인코더와 디코더의 모든 time step의 hidden state를 어텐션 층에 전달하고 결과를 리턴\n",
    "attn_out, attn_states = attn_layer([encoder_outputs, decoder_outputs])\n",
    "\n",
    "# 어텐션의 결과와 디코더의 hidden state들을 연결\n",
    "decoder_concat_input = Concatenate(axis=-1, name='concat_layer')([decoder_outputs, attn_out])\n",
    "\n",
    "# 디코더의 출력층\n",
    "decoder_softmax_layer = Dense(tar_vocab, activation='softmax')\n",
    "decoder_softmax_outputs = decoder_softmax_layer(decoder_concat_input)\n",
    "\n",
    "# 모델 정의\n",
    "model = Model([encoder_inputs, decoder_inputs], decoder_softmax_outputs)\n",
    "model.summary()"
   ]
  },
  {
   "cell_type": "markdown",
   "id": "raising-disco",
   "metadata": {},
   "source": [
    "# 모델훈련"
   ]
  },
  {
   "cell_type": "code",
   "execution_count": 76,
   "id": "adequate-deposit",
   "metadata": {},
   "outputs": [
    {
     "name": "stdout",
     "output_type": "stream",
     "text": [
      "Epoch 1/5\n",
      "232/232 [==============================] - 157s 628ms/step - loss: 6.6731 - val_loss: 5.8850\n",
      "Epoch 2/5\n",
      "232/232 [==============================] - 151s 653ms/step - loss: 5.8441 - val_loss: 5.5364\n",
      "Epoch 3/5\n",
      "232/232 [==============================] - 150s 648ms/step - loss: 5.4680 - val_loss: 5.2624\n",
      "Epoch 4/5\n",
      "232/232 [==============================] - 151s 651ms/step - loss: 5.1713 - val_loss: 5.0441\n",
      "Epoch 5/5\n",
      "232/232 [==============================] - 150s 647ms/step - loss: 4.9168 - val_loss: 4.8929\n"
     ]
    }
   ],
   "source": [
    "# epochs=50하면 시간이 너무 오래 걸려서 5\n",
    "model.compile(optimizer='rmsprop', loss='sparse_categorical_crossentropy')\n",
    "es = EarlyStopping(monitor='val_loss', patience=2, verbose=1)\n",
    "history = model.fit(x=[encoder_input_train, decoder_input_train], y=decoder_target_train, \\\n",
    "          validation_data=([encoder_input_test, decoder_input_test], decoder_target_test), \\\n",
    "          batch_size=256, callbacks=[es], epochs=5)"
   ]
  },
  {
   "cell_type": "code",
   "execution_count": 77,
   "id": "dramatic-ownership",
   "metadata": {},
   "outputs": [
    {
     "data": {
      "image/png": "[encoded data removed]",
      "text/plain": [
       "<Figure size 432x288 with 1 Axes>"
      ]
     },
     "metadata": {
      "needs_background": "light"
     },
     "output_type": "display_data"
    }
   ],
   "source": [
    "# 훈련 데이터의 손실과 검증 데이터의 손실이 줄어드는 과정\n",
    "plt.plot(history.history['loss'], label='train')\n",
    "plt.plot(history.history['val_loss'], label='test')\n",
    "plt.legend()\n",
    "plt.show()"
   ]
  },
  {
   "cell_type": "markdown",
   "id": "seven-bahrain",
   "metadata": {},
   "source": [
    "# 인퍼런스 모델 구현\n",
    "정답 문장이 없는 인퍼런스 단계에서는 만들어야 할 문장의 길이만큼 디코더가 반복 구조로 동작해야 하기 때문에 부득이하게 인퍼런스를 위한 모델 설계를 별도로 해주어야 합니다. 이때는 인코더 모델과 디코더 모델을 분리해서 설계합니다."
   ]
  },
  {
   "cell_type": "code",
   "execution_count": 78,
   "id": "operational-clothing",
   "metadata": {},
   "outputs": [],
   "source": [
    "src_index_to_word = src_tokenizer.index_word # 원문 단어 집합에서 정수 -> 단어를 얻음\n",
    "tar_word_to_index = tar_tokenizer.word_index # 요약 단어 집합에서 단어 -> 정수를 얻음\n",
    "tar_index_to_word = tar_tokenizer.index_word # 요약 단어 집합에서 정수 -> 단어를 얻음"
   ]
  },
  {
   "cell_type": "code",
   "execution_count": 79,
   "id": "lonely-passenger",
   "metadata": {},
   "outputs": [],
   "source": [
    "# 인코더 설계\n",
    "encoder_model = Model(inputs=encoder_inputs, outputs=[encoder_outputs, state_h, state_c])\n",
    "\n",
    "# 이전 시점의 상태들을 저장하는 텐서\n",
    "decoder_state_input_h = Input(shape=(hidden_size,))\n",
    "decoder_state_input_c = Input(shape=(hidden_size,))\n",
    "\n",
    "dec_emb2 = dec_emb_layer(decoder_inputs)\n",
    "\n",
    "# 문장의 다음 단어를 예측하기 위해서 초기 상태(initial_state)를 이전 시점의 상태로 사용. 이는 뒤의 함수 decode_sequence()에 구현\n",
    "# 훈련 과정에서와 달리 LSTM의 리턴하는 은닉 상태와 셀 상태인 state_h와 state_c를 버리지 않음.\n",
    "decoder_outputs2, state_h2, state_c2 = decoder_lstm(dec_emb2, initial_state=[decoder_state_input_h, decoder_state_input_c])"
   ]
  },
  {
   "cell_type": "code",
   "execution_count": 80,
   "id": "unique-design",
   "metadata": {},
   "outputs": [],
   "source": [
    "# 어텐션 메커니즘을 사용하는 출력층을 설계해 주세요.\n",
    "\n",
    "# 어텐션 함수\n",
    "decoder_hidden_state_input = Input(shape=(text_max_len, hidden_size))\n",
    "attn_out_inf, attn_states_inf = attn_layer([decoder_hidden_state_input, decoder_outputs2])\n",
    "decoder_inf_concat = Concatenate(axis=-1, name='concat')([decoder_outputs2, attn_out_inf])\n",
    "\n",
    "# 디코더의 출력층\n",
    "decoder_outputs2 = decoder_softmax_layer(decoder_inf_concat) \n",
    "\n",
    "# 최종 디코더 모델\n",
    "decoder_model = Model(\n",
    "    [decoder_inputs] + [decoder_hidden_state_input,decoder_state_input_h, decoder_state_input_c],\n",
    "    [decoder_outputs2] + [state_h2, state_c2])"
   ]
  },
  {
   "cell_type": "code",
   "execution_count": 84,
   "id": "finished-warner",
   "metadata": {},
   "outputs": [],
   "source": [
    "# 인퍼런스 단계에서 단어 시퀀스를 완성하는 함수를 만들어주세요.\n",
    "\n",
    "def decode_sequence(input_seq):\n",
    "    # 입력으로부터 인코더의 상태를 얻음\n",
    "    e_out, e_h, e_c = encoder_model.predict(input_seq)\n",
    "\n",
    "     # <SOS>에 해당하는 토큰 생성\n",
    "    target_seq = np.zeros((1,1))\n",
    "    target_seq[0, 0] = tar_word_to_index['sostoken']\n",
    "\n",
    "    stop_condition = False\n",
    "    decoded_sentence = ''\n",
    "    while not stop_condition: # stop_condition이 True가 될 때까지 루프 반복\n",
    "\n",
    "        output_tokens, h, c = decoder_model.predict([target_seq] + [e_out, e_h, e_c])\n",
    "        sampled_token_index = np.argmax(output_tokens[0, -1, :])\n",
    "        sampled_token = tar_index_to_word[sampled_token_index]\n",
    "\n",
    "        if (sampled_token!='eostoken'):\n",
    "            decoded_sentence += ' '+sampled_token\n",
    "\n",
    "        #  <eos>에 도달하거나 최대 길이를 넘으면 중단.\n",
    "        if (sampled_token == 'eostoken'  or len(decoded_sentence.split()) >= (headlines_max_len-1)):\n",
    "            stop_condition = True\n",
    "\n",
    "        # 길이가 1인 타겟 시퀀스를 업데이트\n",
    "        target_seq = np.zeros((1,1))\n",
    "        target_seq[0, 0] = sampled_token_index\n",
    "\n",
    "        # 상태를 업데이트 합니다.\n",
    "        e_h, e_c = h, c\n",
    "\n",
    "    return decoded_sentence"
   ]
  },
  {
   "cell_type": "markdown",
   "id": "spiritual-support",
   "metadata": {},
   "source": [
    "# 모델 테스트\n",
    "주어진 정수 시퀀스를 텍스트 시퀀스로 변환하는 함수를 만들어볼게요. 함수를 만들 때, Text의 정수 시퀀스에서는 패딩을 위해 사용되는 숫자 0을 제외하고 Summary의 정수 시퀀스에서는 숫자 0, 시작 토큰의 인덱스, 종료 토큰의 인덱스를 출력에서 제외하도록 만들 거예요."
   ]
  },
  {
   "cell_type": "code",
   "execution_count": 85,
   "id": "devoted-glucose",
   "metadata": {},
   "outputs": [],
   "source": [
    "# 원문의 정수 시퀀스를 텍스트 시퀀스로 변환\n",
    "def seq2text(input_seq):\n",
    "    temp=''\n",
    "    for i in input_seq:\n",
    "        if (i!=0):\n",
    "            temp = temp + src_index_to_word[i]+' '\n",
    "    return temp\n",
    "\n",
    "# 요약문의 정수 시퀀스를 텍스트 시퀀스로 변환\n",
    "def seq2headlines(input_seq):\n",
    "    temp=''\n",
    "    for i in input_seq:\n",
    "        if ((i!=0 and i!=tar_word_to_index['sostoken']) and i!=tar_word_to_index['eostoken']):\n",
    "            temp = temp + tar_index_to_word[i] + ' '\n",
    "    return temp"
   ]
  },
  {
   "cell_type": "code",
   "execution_count": 86,
   "id": "opened-appliance",
   "metadata": {},
   "outputs": [
    {
     "name": "stdout",
     "output_type": "stream",
     "text": [
      "원문 : gujarat congress mlas staying bengaluru resort allowed go mlas karnataka put charge discipline party planned programmes entertainment inside resort include lecture corruption charges upa congress achievements years transparency accountability \n",
      "실제 요약 : gujarat congress mlas in bengaluru not allowed to go out \n",
      "예측 요약 :  bjp cm mlas to be in gujarat assembly\n",
      "\n",
      "\n",
      "원문 : least civilians killed air strikes us led coalition iraq syria according coalition report air strikes carried since coalition began operations isis continue hold accountable actions may caused unintentional injury death civilians coalition said \n",
      "실제 요약 : us coalition air strikes killed civilians in iraq syria \n",
      "예측 요약 :  killed in afghanistan attack in afghanistan\n",
      "\n",
      "\n",
      "원문 : inter faith couple amarnath got married tree college campus saturday presence family members friends couple said opted get married tree religious bias said wanted start new custom \n",
      "실제 요약 : inter faith couple get married in college campus in kerala \n",
      "예측 요약 :  man jailed for raping sex in jail\n",
      "\n",
      "\n",
      "원문 : goat abandoned ticketless owner mumbai railway station auctioned per existing rules authorities said named goat said well behaved loves lounge chair although kept busy terminus placard saying several days takers \n",
      "실제 요약 : goat abandoned by owner at mumbai station to be auctioned \n",
      "예측 요약 :  mumbai airport to get crore in mumbai\n",
      "\n",
      "\n",
      "원문 : antigua barbuda government assured india full cooperation extradition mehul choksi accused pnb scam external affairs minister sushma swaraj met counterpart sidelines rd un general assembly categorically stated entire legal procedure followed choksi \n",
      "실제 요약 : antigua assures full cooperation in choksi extradition \n",
      "예측 요약 :  govt to be in india for india\n",
      "\n",
      "\n",
      "원문 : usa captain michael bradley scored chip yards help united states earn draw mexico sunday world cup qualifier bradley knocked ball toward mexico goal catch lofted right chip around yards goalkeeper guillermo arm \n",
      "실제 요약 : usa player scores with yard chip vs mexico \n",
      "예측 요약 :  ronaldo scores out of his record in\n",
      "\n",
      "\n",
      "원문 : least people killed himachal pradesh landslide struck mandi district sunday least passengers travelling two state buses feared dead disaster pm narendra modi offered condolences kin deceased tweeting pained loss lives \n",
      "실제 요약 : at least killed in himachal pradesh landslide \n",
      "예측 요약 :  killed injured in bus in truck in\n",
      "\n",
      "\n",
      "원문 : year old woman shot right thigh two men chased snatched gold chain delhi rohini friday woman husband said least people present spot nobody helped woman later taken hospital condition stated stable \n",
      "실제 요약 : delhi woman shot at while chain snatchers \n",
      "예측 요약 :  woman who woman to death for killing in\n",
      "\n",
      "\n",
      "원문 : archaeologists egypt opened cursed tombs containing remains workers built great pyramid giza public viewing first time believed supervisor workers filled tombs protect dead thieves tombs discovered opened public viewing \n",
      "실제 요약 : opened in egypt yrs after being discovered \n",
      "예측 요약 :  uk man found in uk\n",
      "\n",
      "\n",
      "원문 : former punjab cm parkash singh badal declined offer free government accommodation made current cm amarinder singh led punjab government badal said thankful singh gesture adding make arrangements stay badal shiromani akali dal alliance bjp could win seats punjab \n",
      "실제 요약 : ex punjab cm declines amarinder offer of free govt house \n",
      "예측 요약 :  up cm calls up cm to be in\n",
      "\n",
      "\n",
      "원문 : actress anushka sharma featured cover india magazine november issue seen standing dog wearing green silk top black bottom sharing picture cover instagram anushka wrote features cover story titled glamour hope anushka \n",
      "실제 요약 : anushka features on cover of india november issue \n",
      "예측 요약 :  arjun shares to star in india reports\n",
      "\n",
      "\n",
      "원문 : pakistan pm shahid abbasi claimed country received amount us financial assistance last years read aid cut aware aid abbasi added us recently cut total aid least billion pakistan \n",
      "실제 요약 : we received very amount of us aid pakistan \n",
      "예측 요약 :  pakistan pm pm modi to be in india\n",
      "\n",
      "\n",
      "원문 : mexico federal judiciary council suspended judge freed wealthy man son accused sexual assault grounds touch girl intent enjoy judicial panel added initiate investigation judge conduct district judge \n",
      "실제 요약 : mexican judge suspended over no ruling \n",
      "예측 요약 :  police accused of sexual harassment over sexual harassment\n",
      "\n",
      "\n",
      "원문 : amid reports shiromani akali dal bjp ways sad president sukhbir singh badal thursday said sad permanent ally bjp added would like appeal allies time fight battle six months get together cast away differences \n",
      "실제 요약 : will always be bjp ally we should come together badal \n",
      "예측 요약 :  bjp leader yadav to be in bjp\n",
      "\n",
      "\n",
      "원문 : switzerland richest man pharmaceutical tycoon fined crore driving speed km per hour zone december near geneva fine yacht race america cup former winner calculated basis wealth estimated lakh crore \n",
      "실제 요약 : switzerland richest man fined over crore for speeding \n",
      "예측 요약 :  world largest largest largest aircraft in world airport\n",
      "\n",
      "\n",
      "원문 : sonu sood portraying villain simmba said role challenging grey character gets entertaining job done added sood entertain sure entertained said produced karan johar rohit shetty directorial scheduled release december \n",
      "실제 요약 : playing villain in simmba is very challenging sonu \n",
      "예측 요약 :  nawazuddin is not not not my film nawazuddin\n",
      "\n",
      "\n",
      "원문 : three weeks taking president ram nath kovind given assent six key recently passed parliament include act extends jurisdiction maritime claims right children free compulsory education bill bill empowering centre collect socio economic statistical data jammu kashmir \n",
      "실제 요약 : prez kovind approves key weeks into office \n",
      "예측 요약 :  delhi prez kovind to be in ayodhya\n",
      "\n",
      "\n",
      "원문 : condemning attack school bus gurugram padmaavat farhan akhtar tweeted attacking school bus agitation terrorism ashamed trade children safety vote bank politics wrote prakash raj tweeted whatever little honour left also lost attacking school bus children \n",
      "실제 요약 : it is terrorism farhan akhtar on gurugram school bus attack \n",
      "예측 요약 :  arrested for killing violence in assam\n",
      "\n",
      "\n",
      "원문 : jammu kashmir governor satya pal malik letter national conference leader omar abdullah said government considering changes permanent resident certificate rules comes omar sent letter malik objecting act governing malik requested omar pay heed frivolous reports \n",
      "실제 요약 : no move to change permanent residency rules governor \n",
      "예측 요약 :  govt slams new bengal to be on ayodhya\n",
      "\n",
      "\n",
      "원문 : crowdfunding campaign seeking build statue first cat experience space one survive journey flew october altitude km selected french space programme cats reportedly gained much weight \n",
      "실제 요약 : first cat in space likely to get memorial after years \n",
      "예측 요약 :  new zealand to be in space\n",
      "\n",
      "\n",
      "원문 : around toilets need built daily uttar pradesh government make state open defecation free october chief secretary rajiv kumar said monday directed district magistrates speed construction work said devote least half hour daily monitor progress \n",
      "실제 요약 : toilets must be built daily to make up by \n",
      "예측 요약 :  delhi govt to get for women in delhi\n",
      "\n",
      "\n",
      "원문 : goa cm manohar parrikar friday revealed opted quit defence minister due pressure key issues like kashmir problem centre tackle issues like kashmir others delhi area operations used feel pressure added \n",
      "실제 요약 : left defence ministry due to kashmir like issues parrikar \n",
      "예측 요약 :  goa cm calls up cm to be in\n",
      "\n",
      "\n",
      "원문 : many six candidates shared top score jee examination year cbse applying rank case candidates scores top rank given candidate scored highest among maths physics ratio positive negative marks also taken consideration \n",
      "실제 요약 : candidates share top score in jee examination \n",
      "예측 요약 :  delhi university to be for students in\n",
      "\n",
      "\n",
      "원문 : flipkart group ceo binny bansal resigned tuesday facing allegation sexual assault dates back years reuters said quoting source individual concerned former flipkart associate flipkart time making allegation added investigation find evidence complainant walmart said \n",
      "실제 요약 : binny bansal resigned over sexual assault claim reports \n",
      "예측 요약 :  flipkart ceo ceo resigns over\n",
      "\n",
      "\n",
      "원문 : pre bid conference government airport privatisation scheme recently held new delhi reportedly attended prospective investors included airport operator adani group australian private equity firm canadian asset management firm brookfield government proposed privatise six airports including jaipur lucknow guwahati \n",
      "실제 요약 : airport privatisation proposal draws over reports \n",
      "예측 요약 :  delhi metro to get its trains in delhi\n",
      "\n",
      "\n",
      "원문 : actress aishwarya rai bachchan wore red multi layered gown ralph russo second appearance th cannes film festival red carpet shoulder gown featured fitted styled embellished stones floral pattern actress accessorised look pair diamond earrings decorated \n",
      "실제 요약 : aishwarya wears red gown for nd appearance at cannes \n",
      "예측 요약 :  aishwarya shares pic of her her her her\n",
      "\n",
      "\n",
      "원문 : former australian cricketer adam gilchrist said finds difficult describe experience india family friends trips india always experience coming experiencing fresh bits adds cultural experience time said gilchrist gave talk delhi university \n",
      "실제 요약 : difficult to experience in india to family \n",
      "예측 요약 :  will not be in the india\n",
      "\n",
      "\n",
      "원문 : bangladesh approved crore transform char island temporary camp rohingya refugees despite warnings island could floods camp house nearly lakh refugees officials said comes bangladesh myanmar signed deal repatriation refugees fled bangladesh \n",
      "실제 요약 : bangladesh approves crore island for rohingyas \n",
      "예측 요약 :  crore in india to be in\n",
      "\n",
      "\n",
      "원문 : cbfc chief pahlaj nihalani filed complaint tv reporter chaudhary alleging harassment intimidation breach privacy complaint says chaudhary made news refusal speak tried interview nihalani said would clear word intercourse jab harry met sejal gets lakh votes \n",
      "실제 요약 : cbfc chief pahlaj files complaint against tv reporter \n",
      "예측 요약 :  lalu slams sexual harassment against sexual harassment case\n",
      "\n",
      "\n",
      "원문 : indore municipal corporation tabled proposal rename city indore madhya pradesh bjp corporator demanded change sudhir asked furnish historic documents support claim chairman ajay singh said city named ancient temple claimed \n",
      "실제 요약 : civic body proposal to rename indore as \n",
      "예측 요약 :  delhi govt to be in mp\n",
      "\n",
      "\n",
      "원문 : actor naseeruddin shah talking second wife ratna pathak shah said wife ratna hindu married much term love jihad coined acted upon added connection respective religions adding eid diwali occasions us celebrate \n",
      "실제 요약 : married hindu lady before term love jihad was shah \n",
      "예측 요약 :  my actor actor is my actor actor\n",
      "\n",
      "\n",
      "원문 : swati wife colonel santosh yashwant lost life fighting terrorists jammu kashmir commissioned army officer saturday swati graduate university pune cleared service selection board examination joined indian army lieutenant \n",
      "실제 요약 : wife of martyr colonel into army \n",
      "예측 요약 :  man who killed for killing in kashmir\n",
      "\n",
      "\n",
      "원문 : swiss parliamentary panel approved automatic exchange information switzerland india pact allows transfer information including tax identification number help india identifying accounts hoarding black money swiss banks however panel asked swiss government amend pact strengthen concrete individual legal protection \n",
      "실제 요약 : swiss parliament panel allows info exchange with india \n",
      "예측 요약 :  govt to cut to be for india\n",
      "\n",
      "\n",
      "원문 : wikileaks founder julian assange thursday tweeted pictures showing exchange emails facebook coo sheryl sandberg hillary clinton campaign chairman john one emails sandberg wrote wanted hillary win badly assange tweeted emails showed facebook top officials may colluded campaign \n",
      "실제 요약 : facebook coo wanted hillary clinton to win assange \n",
      "예측 요약 :  twitter denies twitter of twitter of twitter\n",
      "\n",
      "\n",
      "원문 : police constable wrote superintendent police seeking permission beat wife claimed necessary beat stop participating protest police officers family members wrote scared harassing upper caste political \n",
      "실제 요약 : chhattisgarh cop wants to beat wife asks sp for permission \n",
      "예측 요약 :  man who to death for killing in\n",
      "\n",
      "\n",
      "원문 : prices televisions home appliances may rise consumer durable makers reviewing selling price post festive season sales amid lesser margins panasonic india set increase prices products rupee risen turn impacting inputs costs panasonic india said \n",
      "실제 요약 : prices of tv home may rise by from december \n",
      "예측 요약 :  india to be down in india\n",
      "\n",
      "\n",
      "원문 : british actress emma watson auditioned role harry potter series eight times nine years old series author jk rowling wanted watson role since watson first screen test actress also appeared beauty beast perks turns today \n",
      "실제 요약 : emma watson eight times for role in harry potter \n",
      "예측 요약 :  scientists nobel nobel nobel on the\n",
      "\n",
      "\n",
      "원문 : samajwadi party president akhilesh yadav reportedly pay lakh damages leaving government bungalow poor state bungalow found broken missing taps bathroom damaged swimming pool vacated bungalow supreme court ruled former chief ministers cannot retain government accommodation \n",
      "실제 요약 : akhilesh to pay lakh for damages to govt bungalow report \n",
      "예측 요약 :  bjp leader yadav to be for crore\n",
      "\n",
      "\n",
      "원문 : india signed multilateral convention aims check cross border tax evasion multinational companies modify india curb revenue loss treaty abuse profit shifting strategies ensuring profits taxed economic activities generating profits carried notably countries signed convention \n",
      "실제 요약 : india signs pact to check tax evasion by firms \n",
      "예측 요약 :  india to be in india for india\n",
      "\n",
      "\n",
      "원문 : patanjali messaging app kimbho disappeared google play store day launched yoga guru ramdev comes french security expert goes alias called kimbho security disaster claiming could access messages users ramdev said app would give competition whatsapp \n",
      "실제 요약 : patanjali messaging app disappears from google play store \n",
      "예측 요약 :  whatsapp to users users to users users\n",
      "\n",
      "\n",
      "원문 : vietnam reportedly stopped oil drilling disputed area south china sea china threatened attack vietnamese bases islands drilling stop china claims sovereignty islands calls islands notably several countries including philippines vietnam others dispute china claim region \n",
      "실제 요약 : vietnam halts in south china sea post china threat \n",
      "예측 요약 :  china to build world largest nuclear\n",
      "\n",
      "\n",
      "원문 : european space agency created detailed map ever oceanic generated earth earth magnetic field majorly generated within outer core small fraction comes rocks crust upper mantle magnetic field times weaker global magnetic field satellite altitude \n",
      "실제 요약 : second magnetic field created by earth found \n",
      "예측 요약 :  scientists space of earth of earth\n",
      "\n",
      "\n",
      "원문 : denying reports former pakistan cricket team captain imran khan getting married third time january political party pakistan tehreek insaf said proposed woman named maneka added maneka sought time respond khan married khan khan \n",
      "실제 요약 : imran khan denies rd marriage reports says only proposed \n",
      "예측 요약 :  my not been deepika on my time\n",
      "\n",
      "\n",
      "원문 : spokesperson mark zuckerberg denied reports claiming facebook ceo bought million yacht monaco last year reports claimed zuckerberg bought yacht new zealand billionaire businessman graeme hart yacht reported metre long equipped private suites helicopter deck cinema hall \n",
      "실제 요약 : facebook ceo zuckerberg denies buying million yacht \n",
      "예측 요약 :  facebook to invest crore in us\n",
      "\n",
      "\n",
      "원문 : us based cisco chairman emeritus john chambers expressed interest working indian drone startups focusing next several startups india could possible help fun work ceo chambers said currently also works us based automated drone security platform \n",
      "실제 요약 : chairman may work with indian drone startups \n",
      "예측 요약 :  twitter of india to be in india\n",
      "\n",
      "\n",
      "원문 : five time ballon winner cristiano ronaldo took twitter share picture eldest son cristiano jr imitating famous shirtless pose jr say daddy gonna like think real madrid forward captioned picture reacting user tweeted jr watches messi play free time \n",
      "실제 요약 : ronaldo shares picture of son pose \n",
      "예측 요약 :  twitter shares pic of his picture of instagram\n",
      "\n",
      "\n",
      "원문 : union minister maneka gandhi said grateful pm narendra modi union home minister rajnath singh agreeing organise group ministers strengthen legal framework dealing sexual harassment workplace headed singh union ministers nitin gadkari nirmala sitharaman maneka members \n",
      "실제 요약 : to pm maneka on to combat sexual harassment \n",
      "예측 요약 :  pm modi is pm modi on pm modi\n",
      "\n",
      "\n",
      "원문 : congress vice president rahul gandhi thursday claimed knew bihar cm nitish kumar plans leave congress rjd jd alliance form new government bjp past three four months adding people go extent power said rule credibility indian politics \n",
      "실제 요약 : knew about nitish plan for past months rahul gandhi \n",
      "예측 요약 :  congress leader calls bjp congress congress\n",
      "\n",
      "\n",
      "원문 : remains year old pyramid discovered egypt egyptian antiquities ministry said pyramid believed date back th dynasty found royal near cairo block lines interior corridor also discovered \n",
      "실제 요약 : remains of year old discovered in egypt \n",
      "예측 요약 :  how is the the the time\n",
      "\n",
      "\n",
      "원문 : homegrown ride hailing startup ola acquired mumbai based transportation app undisclosed amount latest acquisition muscle efforts making transportation far holistic service ola co founder aggarwal said part deal team employees including ceo join ola \n",
      "실제 요약 : ola acquires app \n",
      "예측 요약 :  uber startup raises mn in startup\n",
      "\n",
      "\n"
     ]
    }
   ],
   "source": [
    "# 테스트 데이터 약 50개의 샘플에 대해서 실제 요약과 예측된 요약을 비교해보세요.\n",
    "for i in range(50, 100):\n",
    "    print(\"원문 :\", seq2text(encoder_input_test[i]))\n",
    "    print(\"실제 요약 :\", seq2headlines(decoder_input_test[i]))\n",
    "    print(\"예측 요약 :\", decode_sequence(encoder_input_test[i].reshape(1, text_max_len)))\n",
    "    print(\"\\n\")"
   ]
  },
  {
   "cell_type": "markdown",
   "id": "ecological-georgia",
   "metadata": {},
   "source": [
    "# 추출적 요약"
   ]
  },
  {
   "cell_type": "code",
   "execution_count": 88,
   "id": "arbitrary-spell",
   "metadata": {},
   "outputs": [],
   "source": [
    "from summa.summarizer import summarize"
   ]
  },
  {
   "cell_type": "code",
   "execution_count": 87,
   "id": "dying-great",
   "metadata": {},
   "outputs": [],
   "source": [
    "urllib.request.urlretrieve(\"https://raw.githubusercontent.com/sunnysai12345/News_Summary/master/news_summary_more.csv\", filename=\"news_summary_more.csv\")\n",
    "data_ex = pd.read_csv('news_summary_more.csv', encoding='iso-8859-1')"
   ]
  },
  {
   "cell_type": "code",
   "execution_count": 94,
   "id": "reasonable-cheese",
   "metadata": {},
   "outputs": [
    {
     "data": {
      "text/html": [
       "<div>\n",
       "<style scoped>\n",
       "    .dataframe tbody tr th:only-of-type {\n",
       "        vertical-align: middle;\n",
       "    }\n",
       "\n",
       "    .dataframe tbody tr th {\n",
       "        vertical-align: top;\n",
       "    }\n",
       "\n",
       "    .dataframe thead th {\n",
       "        text-align: right;\n",
       "    }\n",
       "</style>\n",
       "<table border=\"1\" class=\"dataframe\">\n",
       "  <thead>\n",
       "    <tr style=\"text-align: right;\">\n",
       "      <th></th>\n",
       "      <th>headlines</th>\n",
       "      <th>text</th>\n",
       "    </tr>\n",
       "  </thead>\n",
       "  <tbody>\n",
       "    <tr>\n",
       "      <th>0</th>\n",
       "      <td>upGrad learner switches to career in ML &amp; Al w...</td>\n",
       "      <td>Saurav Kant, an alumnus of upGrad and IIIT-B's...</td>\n",
       "    </tr>\n",
       "    <tr>\n",
       "      <th>1</th>\n",
       "      <td>Delhi techie wins free food from Swiggy for on...</td>\n",
       "      <td>Kunal Shah's credit card bill payment platform...</td>\n",
       "    </tr>\n",
       "    <tr>\n",
       "      <th>2</th>\n",
       "      <td>New Zealand end Rohit Sharma-led India's 12-ma...</td>\n",
       "      <td>New Zealand defeated India by 8 wickets in the...</td>\n",
       "    </tr>\n",
       "    <tr>\n",
       "      <th>3</th>\n",
       "      <td>Aegon life iTerm insurance plan helps customer...</td>\n",
       "      <td>With Aegon Life iTerm Insurance plan, customer...</td>\n",
       "    </tr>\n",
       "    <tr>\n",
       "      <th>4</th>\n",
       "      <td>Have known Hirani for yrs, what if MeToo claim...</td>\n",
       "      <td>Speaking about the sexual harassment allegatio...</td>\n",
       "    </tr>\n",
       "  </tbody>\n",
       "</table>\n",
       "</div>"
      ],
      "text/plain": [
       "                                           headlines  \\\n",
       "0  upGrad learner switches to career in ML & Al w...   \n",
       "1  Delhi techie wins free food from Swiggy for on...   \n",
       "2  New Zealand end Rohit Sharma-led India's 12-ma...   \n",
       "3  Aegon life iTerm insurance plan helps customer...   \n",
       "4  Have known Hirani for yrs, what if MeToo claim...   \n",
       "\n",
       "                                                text  \n",
       "0  Saurav Kant, an alumnus of upGrad and IIIT-B's...  \n",
       "1  Kunal Shah's credit card bill payment platform...  \n",
       "2  New Zealand defeated India by 8 wickets in the...  \n",
       "3  With Aegon Life iTerm Insurance plan, customer...  \n",
       "4  Speaking about the sexual harassment allegatio...  "
      ]
     },
     "execution_count": 94,
     "metadata": {},
     "output_type": "execute_result"
    }
   ],
   "source": [
    "data_ex.head()"
   ]
  },
  {
   "cell_type": "code",
   "execution_count": 100,
   "id": "personal-examination",
   "metadata": {},
   "outputs": [
    {
     "data": {
      "text/plain": [
       "'Andhra Pradesh CM N Chandrababu Naidu has said, \"When I met then US President Bill Clinton, I addressed him as Mr Clinton, not as \\'sir\\'. (PM Narendra) Modi is my junior in politics...I addressed him as sir 10 times.\" \"I did this...to satisfy his ego in the hope that he will do justice to the state,\" he added.'"
      ]
     },
     "execution_count": 100,
     "metadata": {},
     "output_type": "execute_result"
    }
   ],
   "source": [
    "test = data_ex['text']\n",
    "test[8]"
   ]
  },
  {
   "cell_type": "code",
   "execution_count": 101,
   "id": "paperback-pursuit",
   "metadata": {},
   "outputs": [
    {
     "data": {
      "text/plain": [
       "'Andhra Pradesh CM N Chandrababu Naidu has said, \"When I met then US President Bill Clinton, I addressed him as Mr Clinton, not as \\'sir\\'.'"
      ]
     },
     "execution_count": 101,
     "metadata": {},
     "output_type": "execute_result"
    }
   ],
   "source": [
    "# test\n",
    "summarize(test[8], words=20)"
   ]
  },
  {
   "cell_type": "code",
   "execution_count": 102,
   "id": "animated-howard",
   "metadata": {},
   "outputs": [
    {
     "name": "stdout",
     "output_type": "stream",
     "text": [
      "Summary:\n",
      "Two minor cousins in Uttar Pradesh's Gorakhpur were allegedly repeatedly burnt with tongs and forced to eat human excreta by their family for being friends with two boys from the same school.\n",
      "Answer:\n",
      "UP cousins fed human excreta for friendship with boys\n",
      "Summary:\n",
      "Isha Ghosh, an 81-year-old member of Bharat Scouts and Guides (BSG), has been imparting physical and mental training to schoolchildren in Jharkhand for several decades.\n",
      "Answer:\n",
      "81-yr-old woman conducts physical training in J'khand schools\n",
      "Summary:\n",
      "\n",
      "Answer:\n",
      "Ram, Krishna didn't smoke, why should we: Ramdev to sadhus at Kumbh\n",
      "Summary:\n",
      "Former stripper and regional sales director of a pharmaceutical company, Sunrise Lee, gave a doctor a lap dance in a nightclub to persuade him to prescribe an addictive fentanyl spray in 2012, the company's sales representative told a US court.\n",
      "Answer:\n",
      "Pharma exec gave doctor a lap dance to sell medicine in US: Witness\n",
      "Summary:\n",
      "\"It was a very emotional affair for everyone in my family,\" said Isha.\n",
      "Answer:\n",
      " I only cried at my 'bidaai' as I felt peer pressure: Isha Ambani\n",
      "Summary:\n",
      "Louis Vuitton owner LVMH, which makes high-end beverages like MoÃÂ«t & Chandon champagne and Hennessy cognac, said it's stockpiling four months' worth of wine and spirits in UK in preparation for Brexit.\n",
      "Answer:\n",
      "Louis Vuitton owner to stockpile 4 months of wine, spirits in UK\n",
      "Summary:\n",
      "Filmmaker Karan Johar and actress Tabu turned showstoppers for Gaurav Gupta on the opening night of LakmÃÂ© Fashion Week Summer/ Resort 2019.\n",
      "Answer:\n",
      "Karan Johar, Tabu turn showstoppers on opening night of LFW\n",
      "Summary:\n",
      "\n",
      "Answer:\n",
      "Those on bail will go to jail: PM Modi takes jibe at Rahul\n",
      "Summary:\n",
      "\n",
      "Answer:\n",
      "How long can I tolerate Congress leaders' potshots: K'taka CM\n",
      "Summary:\n",
      "Union Minister Dharmendra Pradhan on Wednesday claimed the illegal mining mafia in Odisha operates under the control of CM Naveen Patnaik and state Congress chief Niranjan Patnaik.\n",
      "Answer:\n",
      "Odisha CM Patnaik controls mining mafia: Union Minister\n",
      "Summary:\n",
      "\n",
      "Answer:\n",
      "I think the opposition even dreams about me: PM Modi\n",
      "Summary:\n",
      "It'll also pursue activities for sustained human space flight missions, ISRO added.\n",
      "Answer:\n",
      "ISRO unveils Bengaluru centre for manned space mission \n",
      "Summary:\n",
      "At least 12 people have been killed and 170 others have been injured in Saudi Arabia this week due to flooding from heavy rain.\n",
      "Answer:\n",
      "12 killed, 170 injured in Saudi Arabia floods\n",
      "Summary:\n",
      "Reliance Industries' Chairman Mukesh Ambani's daughter Isha Ambani has featured on the cover of the February edition of Vogue India.\n",
      "Answer:\n",
      "Isha Ambani features on February cover of Vogue magazine\n",
      "Summary:\n",
      "The US had in November granted a six-month waiver to India from sanctions against Iran and restricted the country's monthly intake of Iranian oil to 3,00,000 barrels per day.\n",
      "Answer:\n",
      "Indian Oil looking for annual deal to buy crude from US\n",
      "Summary:\n",
      "Ambrose's spell helped his team bowl out Australia for 119 in the first innings, after being 85 for 2 at one point.\n",
      "Ambrose ended with first-innings figures of 18-9-25-7.\n",
      "Answer:\n",
      "Pacer once took 7 wickets for just 1 run in 32 balls in a Test\n",
      "Summary:\n",
      "The names will appear on zoo's 'roach board' on February 14.\n",
      "Answer:\n",
      "UK zoo offers people to name cockroach after their ex on Valentine's\n",
      "Summary:\n",
      "Rohit scored 7,799 runs in his first 199 ODIs at an average of 48.14.\n",
      "Answer:\n",
      "Rohit Sharma becomes 14th Indian cricketer to play 200 ODIs\n",
      "Summary:\n",
      "Notably, Shubman was named Player of the Under-19 World Cup in New Zealand last year.\n",
      "Answer:\n",
      "19-year-old Shubman Gill becomes India's 227th ODI cricketer\n",
      "Summary:\n",
      "Investigators searching for a lost plane carrying Argentine forward Emiliano Sala found two seat cushions on French coast that \"likely\" belonged to the aircraft.\n",
      "Answer:\n",
      "2 seat cushions from 'missing plane carrying footballer' found\n",
      "Summary:\n",
      "Italian third division football side Lucchese's head coach Giancarlo Favarin has been banned for five months for headbutting Alessandria's assistant coach Gaetano Mancino during a brawl following the teams' 2-2 draw on Sunday.\n",
      "Answer:\n",
      "Italian coach knocks rival down with headbutt, banned for 5 months\n",
      "Summary:\n",
      "Cyclists taking part in National Track Cycling Championship in Jaipur opted to sleep on the floor inside the stadium instead of hotels over expensive cycles.\n",
      "Answer:\n",
      "Cyclists sleep on stadium floor instead of hotel over costly cycles\n",
      "Summary:\n",
      "Silvia Grecco, a 56-year-old Brazilian mother narrates her local football team Palmeiras' matches live to her 12-year-old blind and autistic son Nickollas from the stands.\n",
      "Answer:\n",
      "Brazilian mother narrates football matches to blind son from stands\n",
      "Summary:\n",
      "A TechCrunch report has claimed that IndiaÃ¢ÂÂs largest bank SBI secured a passwordless server \"overnight\" on being alerted it allowed anyone to access phone numbers, bank balances, and transactions of millions of its customers.\n",
      "Answer:\n",
      "SBI left account data of millions of users unprotected: Report\n",
      "Summary:\n",
      "Rahul Gandhi has replied to Goa CM Manohar Parrikar's letter, which accused the Congress President of using his \"visit to an ailing man for political gains\".\n",
      "Answer:\n",
      "CM Parrikar under pressure from PM after our Goa meet: Rahul\n",
      "Summary:\n",
      "Mahuwala was a member of a gang who ordered costly gadgets from Amazon.\n",
      "Answer:\n",
      "Man arrested for cheating Amazon of Ã¢ÂÂ¹30 lakh by taking refunds\n",
      "Summary:\n",
      "AgustaWestland chopper scam co-accused Rajiv Saxena was extradited to India from UAE on Wednesday.\n",
      "Saxena's lawyers alleged he had been \"illegally extradited\".\n",
      "Answer:\n",
      "AgustaWestland scam accused Rajiv Saxena extradited to India\n",
      "Summary:\n",
      "Afghan President Ashraf Ghani has said the \"keys to war\" are in Pakistan's Islamabad, Quetta and Rawalpindi, accusing the country of providing safe havens to militants, including those belonging to the Taliban.\n",
      "Answer:\n",
      "Pakistan holds 'keys to war': Afghanistan\n",
      "Summary:\n",
      "A Singapore-based insurance agent has been jailed for two years and five months for threatening to harm his clients unless they paid him in bitcoins.\n",
      "Answer:\n",
      "Insurance agent 'Lord Voldemort' jailed for threatening clients\n",
      "Summary:\n",
      "\"I absolutely refuse to lose them (AirPods)...So I made earrings,\" she explained.\n",
      "Answer:\n",
      "Woman turns Apple AirPods into earrings to avoid losing them\n",
      "Summary:\n",
      "Adding that she hasn't been given a copy of the independent probe report, Kochhar said none of ICICI's credit decisions are unilateral\n",
      "Answer:\n",
      "Shocked, hurt by ICICI's decision, truth will prevail: Kochhar\n",
      "Summary:\n",
      "Swedish multinational fast-fashion brand Hennes & Mauritz AB (H&M) has hired Christopher Wylie, the whistleblower who exposed Facebook's Cambridge Analytica data scandal.\n",
      "Answer:\n",
      "Fashion brand H&M hires Facebook data scandal whistleblower\n",
      "Summary:\n",
      "Micro-blogging platform Twitter is testing a new feature on Android to put news on the top of a user's timeline.\n",
      "Answer:\n",
      "Twitter testing news-first timeline feature on Android\n",
      "Summary:\n",
      "Samsung has started mass producing its one terabyte 'embedded Universal Flash Storage (eUFS) 2.1' technology for \"use in next-generation mobile applications\", which it claims is the industry's first such eUFS.\n",
      "Answer:\n",
      "Samsung builds world's first 1TB storage chip for smartphones \n",
      "Summary:\n",
      "Prime Minister Narendra Modi on Wednesday said the people with 'negative mindset' are questioning him and his government for floating pro-poor schemes.\n",
      "Answer:\n",
      "People with 'negative mindset' quizzing pro-poor schemes: PM\n",
      "Summary:\n",
      "Union Minister Anantkumar Hegde took a dig at Congress President Rahul Gandhi by calling him a \"hybrid specimen\" who has no clue about religion.\n",
      "Answer:\n",
      "Rahul is hybrid specimen, has no clue about religion: Hegde\n",
      "Summary:\n",
      "Several parts of the US are set to experience record low temperatures as the polar vortex hit the Upper Midwest, with more than 200 million people expected to experience below-freezing temperatures this week.\n",
      "Answer:\n",
      "Extreme cold to affect 200 million people as polar vortex hits US\n",
      "Summary:\n",
      "The police on Wednesday registered cases against 13 persons, including a woman leader of Hindu Mahasabha, in Aligarh for firing at an effigy of Mahatma Gandhi with an air pistol.\n",
      "Answer:\n",
      "13 booked for firing air shots at Mahatma Gandhi's effigy\n",
      "Summary:\n",
      "Railway police has rescued a woman travelling on a train in Chennai who got her leg stuck inside the commode of a toilet.\n",
      "Answer:\n",
      "Railway police rescues woman with leg stuck in train toilet\n",
      "Summary:\n",
      "The US on Tuesday began returning asylum seekers to Mexico, sending back a migrant from a Central American nation and called the move a \"response to the illegal migration crisis\" faced by it.\n",
      "Answer:\n",
      "US begins sending back asylum seekers to Mexico\n"
     ]
    }
   ],
   "source": [
    "for i in range(10,50):\n",
    "    print('Summary:')\n",
    "    print(summarize(test[i], words=20))\n",
    "    print('Answer:')\n",
    "    print(data_ex['headlines'][i])"
   ]
  },
  {
   "cell_type": "markdown",
   "id": "incorrect-meter",
   "metadata": {},
   "source": [
    "# 회고"
   ]
  },
  {
   "cell_type": "markdown",
   "id": "moderate-source",
   "metadata": {},
   "source": [
    "https://github.com/nr-ai/Aiffel_Exploration/blob/master/NewsSummaryBot.ipynb 의 코드를 참고했습니다.\n",
    "\n",
    "매번 그랬던것 처럼 이 노드를 끝낸것만으로도 나는 행복하다. 사실 결과도 나쁘지 않았다(물론 복붙 수준이지만). 추상적 요약의 결과를 봤을때 요약된 글을 보면서 뭔가 요약이 되어있는것 같기도 하지만 아닌거 같기도 하다. 물론 전처리 과정에서 우리는 많은 부분을 생략을 시켰기에 문장이 매끄럽지 못하다거나, 문맥에 안맞는 부분이 있다던가 하는 문제들은 사실 안고 가야하는거 같다. 이런부분이 아직 기계가 인간처럼 요약을 하기에 한계가 있다는걸 보여주는 증거가 아닐까 싶다. \n",
    "\n",
    "추상적 요약은 매우 복잡했다. 사실 잘 읽어 내려가다가 놓쳐서 그냥 의식의 흐름대로 노드를 진행했던거 같다. 보다가 뒷부분 보면 까먹고... 이런건 내 지능의 한계라고 생각한다...복잡한 만큼 정교하게 만들어 진거 같다. 특히나 어텐션을 사용해서 각 나라의 언어에 영향을 받지않고 요약을 해갈수 있다는점은 정말 큰 장점인거 같다. 다만 내가 생각하기에 텐서플로에서 제공하는 autotune처럼 파라미터를 알아서 자동으로 지정해주어서 코드 짜는 사람이 파라미터에 구애받지 않고 잘 작동되었으면 더 좋을거 같다.\n",
    "\n",
    "솔직히 추상적 요약보다 추출적 요약이 더 매끄럽게 요약된거 같다는 느낌이 든다. 더 간결하고 더 성능좋은 추출적 요약을 더 많이 쓰지 않을까 싶지만, 각자 장단점이 있겠거니 하고 넘어가야 될 거 같다. 일단 완성하는것도 나에게는 버겁기에;"
   ]
  },
  {
   "cell_type": "code",
   "execution_count": null,
   "id": "educated-ukraine",
   "metadata": {},
   "outputs": [],
   "source": []
  }
 ],
 "metadata": {
  "kernelspec": {
   "display_name": "Python 3",
   "language": "python",
   "name": "python3"
  },
  "language_info": {
   "codemirror_mode": {
    "name": "ipython",
    "version": 3
   },
   "file_extension": ".py",
   "mimetype": "text/x-python",
   "name": "python",
   "nbconvert_exporter": "python",
   "pygments_lexer": "ipython3",
   "version": "3.7.9"
  }
 },
 "nbformat": 4,
 "nbformat_minor": 5
}
